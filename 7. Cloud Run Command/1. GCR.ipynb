{
 "cells": [
  {
   "cell_type": "markdown",
   "id": "9dc6ef93",
   "metadata": {},
   "source": [
    "# GCR"
   ]
  },
  {
   "cell_type": "markdown",
   "id": "5be6858f",
   "metadata": {},
   "source": [
    "## Build Artifact Registry"
   ]
  },
  {
   "cell_type": "code",
   "execution_count": null,
   "id": "26559d66",
   "metadata": {
    "vscode": {
     "languageId": "plaintext"
    }
   },
   "outputs": [],
   "source": [
    "gcloud artifacts repositories create [REPOSITORY_NAME] \\\n",
    "--repository-format=docker \\\n",
    "--location=[LOCATION] \\\n",
    "--description=\"DESCRIPTION\""
   ]
  },
  {
   "cell_type": "markdown",
   "id": "ce47bb9f",
   "metadata": {},
   "source": [
    "## Build & Push Container Ke Artifact Registry"
   ]
  },
  {
   "cell_type": "code",
   "execution_count": null,
   "id": "6c0a04c6",
   "metadata": {
    "vscode": {
     "languageId": "plaintext"
    }
   },
   "outputs": [],
   "source": [
    "docker build -t [LOCATION]-docker.pkg.dev/[PROJECT_ID]/[REPO_NAME]/[CONTAINER_NAME] .\n",
    "\n",
    "docker build -t us-central1-docker.pkg.dev/[PROJECT_ID]/my-repo/my-app ."
   ]
  },
  {
   "cell_type": "code",
   "execution_count": null,
   "id": "889840ee",
   "metadata": {
    "vscode": {
     "languageId": "plaintext"
    }
   },
   "outputs": [],
   "source": [
    "docker push [LOCATION]-docker.pkg.dev/[PROJECT_ID]/[REPO_NAME]/[CONTAINER_NAME]\n",
    "\n",
    "docker push us-central1-docker.pkg.dev/[PROJECT_ID]/my-repo/my-app"
   ]
  },
  {
   "cell_type": "markdown",
   "id": "a0460bf9",
   "metadata": {},
   "source": [
    "## Deploy Ke Cloud Run"
   ]
  },
  {
   "cell_type": "code",
   "execution_count": null,
   "id": "0459cfa8",
   "metadata": {
    "vscode": {
     "languageId": "plaintext"
    }
   },
   "outputs": [],
   "source": [
    "gcloud run deploy [NAME] \\\n",
    "--image=[IMAGE] \\\n",
    "--platform=managed \\\n",
    "--region=[REGION] \\\n",
    "--allow-unauthenticated\n",
    "--cpu=[CPU]\n",
    "--memory=512Mi\n",
    "--concurrency=100\n",
    "--min-instance=1\n",
    "--max-instance=5\n",
    "--timeout=300s\n",
    "--set-env-vars=\"ENV=prod,DB_URL=mysql://...\""
   ]
  },
  {
   "cell_type": "code",
   "execution_count": null,
   "id": "44375d5d",
   "metadata": {
    "vscode": {
     "languageId": "plaintext"
    }
   },
   "outputs": [],
   "source": [
    "gcloud run deploy my-app \\\n",
    "  --image us-central1-docker.pkg.dev/[PROJECT_ID]/my-repo/my-app \\\n",
    "  --platform managed \\\n",
    "  --region us-central1 \\\n",
    "  --allow-unauthenticated"
   ]
  },
  {
   "cell_type": "markdown",
   "id": "2909b59e",
   "metadata": {},
   "source": [
    "## Melihat Service"
   ]
  },
  {
   "cell_type": "code",
   "execution_count": null,
   "id": "77dc7374",
   "metadata": {
    "vscode": {
     "languageId": "plaintext"
    }
   },
   "outputs": [],
   "source": [
    "gcloud run services list"
   ]
  },
  {
   "cell_type": "markdown",
   "id": "4d901c4a",
   "metadata": {},
   "source": [
    "## Melihat Detail Service"
   ]
  },
  {
   "cell_type": "code",
   "execution_count": null,
   "id": "7e497cd7",
   "metadata": {
    "vscode": {
     "languageId": "plaintext"
    }
   },
   "outputs": [],
   "source": [
    "gcloud run services describe=[SERVICE_NAME] --region=[REGION]"
   ]
  },
  {
   "cell_type": "markdown",
   "id": "0b3e6868",
   "metadata": {},
   "source": [
    "## Menghapus Service"
   ]
  },
  {
   "cell_type": "code",
   "execution_count": null,
   "id": "97f32819",
   "metadata": {
    "vscode": {
     "languageId": "plaintext"
    }
   },
   "outputs": [],
   "source": [
    "gcloud run services delete=[SERVICE_NAME] --region=[REGION]"
   ]
  },
  {
   "cell_type": "markdown",
   "id": "2219a078",
   "metadata": {},
   "source": [
    "## Mengakses Service"
   ]
  },
  {
   "cell_type": "code",
   "execution_count": null,
   "id": "5d8d237d",
   "metadata": {
    "vscode": {
     "languageId": "plaintext"
    }
   },
   "outputs": [],
   "source": [
    "gcloud run services describe [SERVICE_NAME] --region [REGION] --format=\"value(status.url)\""
   ]
  }
 ],
 "metadata": {
  "language_info": {
   "name": "python"
  }
 },
 "nbformat": 4,
 "nbformat_minor": 5
}
