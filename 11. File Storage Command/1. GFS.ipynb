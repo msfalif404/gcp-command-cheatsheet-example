{
 "cells": [
  {
   "cell_type": "markdown",
   "id": "16e2dc87",
   "metadata": {},
   "source": [
    "# GFS"
   ]
  },
  {
   "cell_type": "markdown",
   "id": "ec54f707",
   "metadata": {},
   "source": [
    "## Melihat Daftar Instance"
   ]
  },
  {
   "cell_type": "code",
   "execution_count": null,
   "id": "b13762f0",
   "metadata": {
    "vscode": {
     "languageId": "plaintext"
    }
   },
   "outputs": [],
   "source": [
    "gcloud filestore instances list --project=[PROJECT_ID]"
   ]
  },
  {
   "cell_type": "markdown",
   "id": "c7a7540a",
   "metadata": {},
   "source": [
    "## Melihat Informasi Detail Suatu Instance"
   ]
  },
  {
   "cell_type": "code",
   "execution_count": null,
   "id": "1f88a3ba",
   "metadata": {
    "vscode": {
     "languageId": "plaintext"
    }
   },
   "outputs": [],
   "source": [
    "gcloud filestore instances describe [INSTANCE_NAME] --zone=[ZONE]"
   ]
  },
  {
   "cell_type": "markdown",
   "id": "9ea08439",
   "metadata": {},
   "source": [
    "## Membuat Instance Filestore"
   ]
  },
  {
   "cell_type": "code",
   "execution_count": null,
   "id": "648c58f1",
   "metadata": {
    "vscode": {
     "languageId": "plaintext"
    }
   },
   "outputs": [],
   "source": [
    "gcloud filestore instances create [INSTANCE_NAME] \\\n",
    "--project=[PROJECT_ID] \\\n",
    "--zone=[ZONE] \\\n",
    "--tier=[basic|enterprise|zonal|regional] \\\n",
    "--file-share=name=[SHARE_NAME],capacity=[SIZE] \\\n",
    "--network=name[VPC_NETWORK_NAME]"
   ]
  },
  {
   "cell_type": "code",
   "execution_count": null,
   "id": "3d28cff4",
   "metadata": {
    "vscode": {
     "languageId": "plaintext"
    }
   },
   "outputs": [],
   "source": [
    "gcloud filestore instances create my-filestore \\\n",
    "  --project=my-project \\\n",
    "  --zone=us-central1-a \\\n",
    "  --tier=basic \\\n",
    "  --file-share=name=my-share,capacity=1TB \\\n",
    "  --network=name=default"
   ]
  },
  {
   "cell_type": "markdown",
   "id": "88d4f678",
   "metadata": {},
   "source": [
    "## Menghapus Instance"
   ]
  },
  {
   "cell_type": "code",
   "execution_count": null,
   "id": "97e55136",
   "metadata": {
    "vscode": {
     "languageId": "plaintext"
    }
   },
   "outputs": [],
   "source": [
    "gcloud filestore instances delete [INSTANCE_NAME] --zone=[ZONE]"
   ]
  }
 ],
 "metadata": {
  "language_info": {
   "name": "python"
  }
 },
 "nbformat": 4,
 "nbformat_minor": 5
}
