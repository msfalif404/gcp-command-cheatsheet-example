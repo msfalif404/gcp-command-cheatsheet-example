{
 "cells": [
  {
   "cell_type": "markdown",
   "id": "093a7a61",
   "metadata": {},
   "source": [
    "# GCS"
   ]
  },
  {
   "cell_type": "markdown",
   "id": "30cb07d7",
   "metadata": {},
   "source": [
    "## Membuat Bucket"
   ]
  },
  {
   "cell_type": "code",
   "execution_count": null,
   "id": "82dbd77a",
   "metadata": {
    "vscode": {
     "languageId": "plaintext"
    }
   },
   "outputs": [],
   "source": [
    "gsutil mb -l [REGION] gs://[BUCKET_NAME]/"
   ]
  },
  {
   "cell_type": "markdown",
   "id": "94b91e97",
   "metadata": {},
   "source": [
    "## Melihat Isi Bucket"
   ]
  },
  {
   "cell_type": "code",
   "execution_count": null,
   "id": "5df08701",
   "metadata": {
    "vscode": {
     "languageId": "plaintext"
    }
   },
   "outputs": [],
   "source": [
    "gsutil ls gs://[BUCKET_NAME]"
   ]
  },
  {
   "cell_type": "markdown",
   "id": "ee549358",
   "metadata": {},
   "source": [
    "## Upload File"
   ]
  },
  {
   "cell_type": "code",
   "execution_count": null,
   "id": "a65a62da",
   "metadata": {
    "vscode": {
     "languageId": "plaintext"
    }
   },
   "outputs": [],
   "source": [
    "gsutil cp [FILE_PATH] gs://[BUCKET_NAME]"
   ]
  },
  {
   "cell_type": "markdown",
   "id": "91736a82",
   "metadata": {},
   "source": [
    "## Hapus File"
   ]
  },
  {
   "cell_type": "code",
   "execution_count": null,
   "id": "1e6fae08",
   "metadata": {
    "vscode": {
     "languageId": "plaintext"
    }
   },
   "outputs": [],
   "source": [
    "gsutil rm [FILE_PATH] gs://[BUCKET_NAME]"
   ]
  }
 ],
 "metadata": {
  "language_info": {
   "name": "python"
  }
 },
 "nbformat": 4,
 "nbformat_minor": 5
}
