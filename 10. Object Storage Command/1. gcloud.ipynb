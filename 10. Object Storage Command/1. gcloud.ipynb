{
 "cells": [
  {
   "cell_type": "markdown",
   "id": "b566a6cb",
   "metadata": {},
   "source": [
    "# GCS"
   ]
  },
  {
   "cell_type": "markdown",
   "id": "f1b4e8b5",
   "metadata": {},
   "source": [
    "## Membuat Bucket"
   ]
  },
  {
   "cell_type": "code",
   "execution_count": null,
   "id": "dce86213",
   "metadata": {
    "vscode": {
     "languageId": "plaintext"
    }
   },
   "outputs": [],
   "source": [
    "gcloud storage buckets create [BUCKET_NAME] \\\n",
    "--location=[REGION]\n",
    "--storage-class=[STORAGE_TYPE] // STANDARD, NEARLINE, COLDLINE, ARCHIVE"
   ]
  },
  {
   "cell_type": "markdown",
   "id": "4066ab8d",
   "metadata": {},
   "source": [
    "## Mengupload File Ke Bucket"
   ]
  },
  {
   "cell_type": "code",
   "execution_count": null,
   "id": "fec1db65",
   "metadata": {
    "vscode": {
     "languageId": "plaintext"
    }
   },
   "outputs": [],
   "source": [
    "gcloud storage cp [SOURCE_PATH] gs://[BUCKET_NAME]"
   ]
  },
  {
   "cell_type": "code",
   "execution_count": null,
   "id": "892ee607",
   "metadata": {
    "vscode": {
     "languageId": "plaintext"
    }
   },
   "outputs": [],
   "source": [
    "gcloud storage cp image.jpg gs://my-bucket"
   ]
  },
  {
   "cell_type": "markdown",
   "id": "60721930",
   "metadata": {},
   "source": [
    "## Mendownload File Dari Bucket"
   ]
  },
  {
   "cell_type": "code",
   "execution_count": null,
   "id": "02857f78",
   "metadata": {
    "vscode": {
     "languageId": "plaintext"
    }
   },
   "outputs": [],
   "source": [
    "gcloud storage cp gs://[BUCKET_NAME]/[FILE_NAME] [DESTIONATION_PATH]"
   ]
  },
  {
   "cell_type": "markdown",
   "id": "3a3f4f82",
   "metadata": {},
   "source": [
    "## Melihat Isi Bucket"
   ]
  },
  {
   "cell_type": "code",
   "execution_count": null,
   "id": "a2d3154a",
   "metadata": {
    "vscode": {
     "languageId": "plaintext"
    }
   },
   "outputs": [],
   "source": [
    "gcloud storage ls gs://[BUCKET_NAME]"
   ]
  },
  {
   "cell_type": "markdown",
   "id": "ceadf87e",
   "metadata": {},
   "source": [
    "## Menghapus Bucket"
   ]
  },
  {
   "cell_type": "code",
   "execution_count": null,
   "id": "1a36c553",
   "metadata": {
    "vscode": {
     "languageId": "plaintext"
    }
   },
   "outputs": [],
   "source": [
    "gcloud storage buckets delete [BUCKET_NAME]"
   ]
  },
  {
   "cell_type": "markdown",
   "id": "bcd6138b",
   "metadata": {},
   "source": [
    "## Menghapus File"
   ]
  },
  {
   "cell_type": "code",
   "execution_count": null,
   "id": "beec0453",
   "metadata": {
    "vscode": {
     "languageId": "plaintext"
    }
   },
   "outputs": [],
   "source": [
    "gcloud storage rm gs://[BUCKET_NAME]/[FILE_NAME]"
   ]
  },
  {
   "cell_type": "markdown",
   "id": "dce8cddf",
   "metadata": {},
   "source": [
    "## Menetapkan Public Access"
   ]
  },
  {
   "cell_type": "code",
   "execution_count": null,
   "id": "d5c1d5a5",
   "metadata": {
    "vscode": {
     "languageId": "plaintext"
    }
   },
   "outputs": [],
   "source": [
    "gcloud storage buckets add-iam-policy-binding [BUCKET_NAME] \\\n",
    "--member=allUsers \\\n",
    "--role=roles/storage.objectViewer"
   ]
  }
 ],
 "metadata": {
  "language_info": {
   "name": "python"
  }
 },
 "nbformat": 4,
 "nbformat_minor": 5
}
