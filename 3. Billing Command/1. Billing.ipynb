{
 "cells": [
  {
   "cell_type": "markdown",
   "id": "1362a120",
   "metadata": {},
   "source": [
    "# Billing"
   ]
  },
  {
   "cell_type": "markdown",
   "id": "0103adfc",
   "metadata": {},
   "source": [
    "## Melihat Billing Account"
   ]
  },
  {
   "cell_type": "code",
   "execution_count": null,
   "id": "e86a2066",
   "metadata": {
    "vscode": {
     "languageId": "plaintext"
    }
   },
   "outputs": [],
   "source": [
    "gcloud billing accounts list"
   ]
  },
  {
   "cell_type": "markdown",
   "id": "2aaa0885",
   "metadata": {},
   "source": [
    "## Menampilkan Informasi Billing Account"
   ]
  },
  {
   "cell_type": "code",
   "execution_count": null,
   "id": "eacedcbd",
   "metadata": {
    "vscode": {
     "languageId": "plaintext"
    }
   },
   "outputs": [],
   "source": [
    "gcloud billing accounts describe [BILLING_ACCOUNT_ID]"
   ]
  },
  {
   "cell_type": "markdown",
   "id": "65a72edf",
   "metadata": {},
   "source": [
    "## Menautkan Project Ke Billing Account Tertentu"
   ]
  },
  {
   "cell_type": "code",
   "execution_count": null,
   "id": "3b86a82f",
   "metadata": {
    "vscode": {
     "languageId": "plaintext"
    }
   },
   "outputs": [],
   "source": [
    "gcloud beta billing projects link [PROJECT_ID] --billing-account=[BILLING_ACCOUNT_ID]"
   ]
  },
  {
   "cell_type": "markdown",
   "id": "5f5e037a",
   "metadata": {},
   "source": [
    "## Memutuskan Project Dari Billing Account Tertentu"
   ]
  },
  {
   "cell_type": "code",
   "execution_count": null,
   "id": "bb953169",
   "metadata": {
    "vscode": {
     "languageId": "plaintext"
    }
   },
   "outputs": [],
   "source": [
    "gcloud beta billing projects unlink [PROJECT_ID]"
   ]
  },
  {
   "cell_type": "markdown",
   "id": "032786ed",
   "metadata": {},
   "source": [
    "## Menampilkan Informasi Billing Untuk Project Tertentu"
   ]
  },
  {
   "cell_type": "code",
   "execution_count": null,
   "id": "79ce9044",
   "metadata": {
    "vscode": {
     "languageId": "plaintext"
    }
   },
   "outputs": [],
   "source": [
    "gcloud beta billing projects describe [PROJECT_ID]"
   ]
  }
 ],
 "metadata": {
  "language_info": {
   "name": "python"
  }
 },
 "nbformat": 4,
 "nbformat_minor": 5
}
