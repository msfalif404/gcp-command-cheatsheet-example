{
 "cells": [
  {
   "cell_type": "markdown",
   "id": "133efe1a",
   "metadata": {},
   "source": [
    "# Studi Kasus (Incoming)"
   ]
  },
  {
   "cell_type": "markdown",
   "id": "bd68b726",
   "metadata": {},
   "source": [
    "## Usefull Resource:\n",
    "\n",
    "- https://chatgpt.com/c/6831cd44-f6c4-8005-84e0-6d82693d9918"
   ]
  }
 ],
 "metadata": {
  "language_info": {
   "name": "python"
  }
 },
 "nbformat": 4,
 "nbformat_minor": 5
}
