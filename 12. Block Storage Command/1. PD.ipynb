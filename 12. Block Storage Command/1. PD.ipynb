{
 "cells": [
  {
   "cell_type": "markdown",
   "id": "0553acf4",
   "metadata": {},
   "source": [
    "# PD"
   ]
  },
  {
   "cell_type": "markdown",
   "id": "f6d06e50",
   "metadata": {},
   "source": [
    "## Membuat PD"
   ]
  },
  {
   "cell_type": "code",
   "execution_count": null,
   "id": "bb402ef1",
   "metadata": {
    "vscode": {
     "languageId": "plaintext"
    }
   },
   "outputs": [],
   "source": [
    "gcloud compute disks create [DISK_NAME] \\\n",
    "  --size=[SIZE] \\\n",
    "  --type=[DISK_TYPE] \\\n",
    "  --zone=[ZONE]\n"
   ]
  },
  {
   "cell_type": "markdown",
   "id": "3748ce70",
   "metadata": {},
   "source": [
    "gcloud compute disks create my-disk \\\n",
    "  --size=100GB \\\n",
    "  --type=pd-balanced \\\n",
    "  --zone=us-central1-a"
   ]
  },
  {
   "cell_type": "markdown",
   "id": "30f2b177",
   "metadata": {},
   "source": [
    "## Attach PD ke VM"
   ]
  },
  {
   "cell_type": "code",
   "execution_count": null,
   "id": "58f821f2",
   "metadata": {
    "vscode": {
     "languageId": "plaintext"
    }
   },
   "outputs": [],
   "source": [
    "gcloud compute instances attach-disk [INSTANCE_NAME] \\\n",
    "  --disk=[DISK_NAME] \\\n",
    "  --zone=[ZONE]"
   ]
  },
  {
   "cell_type": "markdown",
   "id": "a30b26ba",
   "metadata": {},
   "source": [
    "## Detach PD dari VM"
   ]
  },
  {
   "cell_type": "code",
   "execution_count": null,
   "id": "3b0ae028",
   "metadata": {
    "vscode": {
     "languageId": "plaintext"
    }
   },
   "outputs": [],
   "source": [
    "gcloud compute instances detach-disk [INSTANCE_NAME] \\\n",
    "  --disk=[DISK_NAME] \\\n",
    "  --zone=[ZONE]"
   ]
  },
  {
   "cell_type": "markdown",
   "id": "aa40b0c9",
   "metadata": {},
   "source": [
    "## Menghapus Disk"
   ]
  },
  {
   "cell_type": "code",
   "execution_count": null,
   "id": "8bc6df43",
   "metadata": {
    "vscode": {
     "languageId": "plaintext"
    }
   },
   "outputs": [],
   "source": [
    "gcloud compute disks delete [DISK_NAME] \\\n",
    "  --zone=[ZONE]"
   ]
  },
  {
   "cell_type": "markdown",
   "id": "76d08c75",
   "metadata": {},
   "source": [
    "## Melihat Semua Disk di Zona"
   ]
  },
  {
   "cell_type": "code",
   "execution_count": null,
   "id": "9b91c3e1",
   "metadata": {
    "vscode": {
     "languageId": "plaintext"
    }
   },
   "outputs": [],
   "source": [
    "gcloud compute disks list --filter=\"zone:[ZONE]\""
   ]
  },
  {
   "cell_type": "markdown",
   "id": "09c567e4",
   "metadata": {},
   "source": [
    "## Resize Ukuran Disk (Hanya Bisa Memperbesar)"
   ]
  },
  {
   "cell_type": "code",
   "execution_count": null,
   "id": "870ea301",
   "metadata": {
    "vscode": {
     "languageId": "plaintext"
    }
   },
   "outputs": [],
   "source": [
    "gcloud compute disks resize [DISK_NAME] \\\n",
    "  --size=[NEW_SIZE] \\\n",
    "  --zone=[ZONE]"
   ]
  },
  {
   "cell_type": "markdown",
   "id": "a4268f72",
   "metadata": {},
   "source": [
    "## Backup"
   ]
  },
  {
   "cell_type": "code",
   "execution_count": null,
   "id": "1d10d4cb",
   "metadata": {
    "vscode": {
     "languageId": "plaintext"
    }
   },
   "outputs": [],
   "source": [
    "gcloud compute disks snapshot [DISK_NAME] \\\n",
    "  --snapshot-names=[SNAPSHOT_NAME] \\\n",
    "  --zone=[ZONE]"
   ]
  },
  {
   "cell_type": "markdown",
   "id": "6c6aee26",
   "metadata": {},
   "source": [
    "## Membuat Disk dari Snapshot"
   ]
  },
  {
   "cell_type": "code",
   "execution_count": null,
   "id": "bdcb0077",
   "metadata": {
    "vscode": {
     "languageId": "plaintext"
    }
   },
   "outputs": [],
   "source": [
    "gcloud compute disks create [DISK_NAME] \\\n",
    "  --source-snapshot=[SNAPSHOT_NAME] \\\n",
    "  --zone=[ZONE]"
   ]
  },
  {
   "cell_type": "markdown",
   "id": "326826e1",
   "metadata": {},
   "source": [
    "## Membuat VM dengan Disk yang Sudah Ada"
   ]
  },
  {
   "cell_type": "code",
   "execution_count": null,
   "id": "836a4075",
   "metadata": {
    "vscode": {
     "languageId": "plaintext"
    }
   },
   "outputs": [],
   "source": [
    "gcloud compute instances create [INSTANCE_NAME] \\\n",
    "  --zone=[ZONE] \\\n",
    "  --disk=name=[DISK_NAME],boot=yes,auto-delete=no"
   ]
  }
 ],
 "metadata": {
  "language_info": {
   "name": "python"
  }
 },
 "nbformat": 4,
 "nbformat_minor": 5
}
