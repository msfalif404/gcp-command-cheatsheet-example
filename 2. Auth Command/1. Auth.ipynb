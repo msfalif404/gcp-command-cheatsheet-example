{
 "cells": [
  {
   "cell_type": "markdown",
   "id": "22cd6ff9",
   "metadata": {},
   "source": [
    "# Authentication"
   ]
  },
  {
   "cell_type": "markdown",
   "id": "22f1ff08",
   "metadata": {},
   "source": [
    "## Melihat Konfigurasi Saat Ini"
   ]
  },
  {
   "cell_type": "code",
   "execution_count": null,
   "id": "bb1100e7",
   "metadata": {
    "vscode": {
     "languageId": "plaintext"
    }
   },
   "outputs": [],
   "source": [
    "gcloud config list"
   ]
  },
  {
   "cell_type": "markdown",
   "id": "d875b2a3",
   "metadata": {},
   "source": [
    "## Login dengan akun Google"
   ]
  },
  {
   "cell_type": "code",
   "execution_count": null,
   "id": "a980ce9d",
   "metadata": {
    "vscode": {
     "languageId": "plaintext"
    }
   },
   "outputs": [],
   "source": [
    "gcloud auth login"
   ]
  },
  {
   "cell_type": "markdown",
   "id": "0ae90ab6",
   "metadata": {},
   "source": [
    "## Mengatur Akun Aktif"
   ]
  },
  {
   "cell_type": "code",
   "execution_count": null,
   "id": "a947c5a7",
   "metadata": {
    "vscode": {
     "languageId": "plaintext"
    }
   },
   "outputs": [],
   "source": [
    "gcloud config set account user@example.com"
   ]
  },
  {
   "cell_type": "markdown",
   "id": "6ac8f732",
   "metadata": {},
   "source": [
    "## Melihat daftar akun yang sudah login"
   ]
  },
  {
   "cell_type": "code",
   "execution_count": null,
   "id": "00e0b332",
   "metadata": {
    "vscode": {
     "languageId": "plaintext"
    }
   },
   "outputs": [],
   "source": [
    "gcloud auth list"
   ]
  },
  {
   "cell_type": "markdown",
   "id": "234e7bcd",
   "metadata": {},
   "source": [
    "## Logout"
   ]
  },
  {
   "cell_type": "code",
   "execution_count": null,
   "id": "476fff9f",
   "metadata": {
    "vscode": {
     "languageId": "plaintext"
    }
   },
   "outputs": [],
   "source": [
    "gcloud auth revoke"
   ]
  },
  {
   "cell_type": "markdown",
   "id": "50e3fd8f",
   "metadata": {},
   "source": [
    "## Logout Akun Tertentu"
   ]
  },
  {
   "cell_type": "code",
   "execution_count": null,
   "id": "d1095054",
   "metadata": {
    "vscode": {
     "languageId": "plaintext"
    }
   },
   "outputs": [],
   "source": [
    "gcloud auth revoke user@example.com"
   ]
  },
  {
   "cell_type": "markdown",
   "id": "db5429b0",
   "metadata": {},
   "source": [
    "## Menggunakan Service Account"
   ]
  },
  {
   "cell_type": "code",
   "execution_count": null,
   "id": "74038866",
   "metadata": {
    "vscode": {
     "languageId": "plaintext"
    }
   },
   "outputs": [],
   "source": [
    "gcloud auth activate-service-account --key-file=KEY.json"
   ]
  }
 ],
 "metadata": {
  "language_info": {
   "name": "python"
  }
 },
 "nbformat": 4,
 "nbformat_minor": 5
}
