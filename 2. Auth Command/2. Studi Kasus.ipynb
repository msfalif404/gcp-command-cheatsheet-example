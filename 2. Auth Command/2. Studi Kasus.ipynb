{
 "cells": [
  {
   "cell_type": "markdown",
   "id": "133efe1a",
   "metadata": {},
   "source": [
    "# Studi Kasus (Incoming)"
   ]
  },
  {
   "cell_type": "markdown",
   "id": "bd68b726",
   "metadata": {},
   "source": [
    "## Usefull Resource:\n",
    "\n",
    "- https://chatgpt.com/c/6831cb95-37a4-8005-9075-0c7bf3718644"
   ]
  }
 ],
 "metadata": {
  "language_info": {
   "name": "python"
  }
 },
 "nbformat": 4,
 "nbformat_minor": 5
}
