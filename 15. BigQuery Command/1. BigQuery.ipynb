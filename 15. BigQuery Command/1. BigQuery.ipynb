{
 "cells": [
  {
   "cell_type": "markdown",
   "id": "792be496",
   "metadata": {},
   "source": [
    "# BigQuery"
   ]
  },
  {
   "cell_type": "markdown",
   "id": "a1e70de1",
   "metadata": {},
   "source": [
    "## Install BigQuery Component"
   ]
  },
  {
   "cell_type": "code",
   "execution_count": null,
   "id": "a6128764",
   "metadata": {
    "vscode": {
     "languageId": "plaintext"
    }
   },
   "outputs": [],
   "source": [
    "gcloud components install bq"
   ]
  },
  {
   "cell_type": "markdown",
   "id": "3606e562",
   "metadata": {},
   "source": [
    "## Melihat Dataset Dalam Proyek"
   ]
  },
  {
   "cell_type": "code",
   "execution_count": null,
   "id": "218b5094",
   "metadata": {
    "vscode": {
     "languageId": "plaintext"
    }
   },
   "outputs": [],
   "source": [
    "bq ls --project_id=[PROJECT_ID]"
   ]
  },
  {
   "cell_type": "markdown",
   "id": "990eb080",
   "metadata": {},
   "source": [
    "## Membuat Dataset"
   ]
  },
  {
   "cell_type": "code",
   "execution_count": null,
   "id": "e65bd2ed",
   "metadata": {
    "vscode": {
     "languageId": "plaintext"
    }
   },
   "outputs": [],
   "source": [
    "bq mk --dataset \\\n",
    "--description \"Deskripsi dataset\" \\\n",
    "--location=us \\\n",
    "[PROJECT_ID]:[DATASET_NAME]"
   ]
  },
  {
   "cell_type": "code",
   "execution_count": null,
   "id": "a92b7847",
   "metadata": {
    "vscode": {
     "languageId": "plaintext"
    }
   },
   "outputs": [],
   "source": [
    "bq mk --dataset --description \"Data penjualan 2024\" --location=us my-project-id:sales_2024"
   ]
  },
  {
   "cell_type": "markdown",
   "id": "535db629",
   "metadata": {},
   "source": [
    "## Melihat Tabel Dalam Dataset"
   ]
  },
  {
   "cell_type": "code",
   "execution_count": null,
   "id": "46c45701",
   "metadata": {
    "vscode": {
     "languageId": "plaintext"
    }
   },
   "outputs": [],
   "source": [
    "bq ls [PROJECT_ID]:[DATASET]"
   ]
  },
  {
   "cell_type": "code",
   "execution_count": null,
   "id": "e1aaa206",
   "metadata": {
    "vscode": {
     "languageId": "plaintext"
    }
   },
   "outputs": [],
   "source": [
    "bq ls my-project-id:marketing_data"
   ]
  },
  {
   "cell_type": "markdown",
   "id": "dae0acde",
   "metadata": {},
   "source": [
    "## Membuat Tabel Dalam Dataset"
   ]
  },
  {
   "cell_type": "code",
   "execution_count": null,
   "id": "823f7b95",
   "metadata": {
    "vscode": {
     "languageId": "plaintext"
    }
   },
   "outputs": [],
   "source": [
    "bq mk \\\n",
    "--table \\\n",
    "--schema=field1:TYPE,field2:TYPE \\\n",
    "[PROJECT_ID]:[DATASET].[TABLE]"
   ]
  },
  {
   "cell_type": "code",
   "execution_count": null,
   "id": "d001ce6d",
   "metadata": {
    "vscode": {
     "languageId": "plaintext"
    }
   },
   "outputs": [],
   "source": [
    "bq mk --table --schema=date:DATE,amount:FLOAT,product:STRING \\\n",
    "my-project-id:sales_2024.transactions"
   ]
  },
  {
   "cell_type": "markdown",
   "id": "5518b879",
   "metadata": {},
   "source": [
    "## Mengupload Data Ke Tabel"
   ]
  },
  {
   "cell_type": "code",
   "execution_count": null,
   "id": "d3b62fb3",
   "metadata": {
    "vscode": {
     "languageId": "plaintext"
    }
   },
   "outputs": [],
   "source": [
    "bq load \\\n",
    "--source_format=CSV \\\n",
    "--autodetect \\\n",
    "[PROJECT_ID]:[DATASET].[TABLE] \\\n",
    "[path/to/file.csv]"
   ]
  },
  {
   "cell_type": "code",
   "execution_count": null,
   "id": "35ee6155",
   "metadata": {
    "vscode": {
     "languageId": "plaintext"
    }
   },
   "outputs": [],
   "source": [
    "bq load --source_format=CSV --autodetect \\\n",
    "my-project-id:sales_2024.transactions ./data/penjualan.csv"
   ]
  },
  {
   "cell_type": "markdown",
   "id": "31c69971",
   "metadata": {},
   "source": [
    "## Menjalankan Query SQL"
   ]
  },
  {
   "cell_type": "code",
   "execution_count": null,
   "id": "575148a3",
   "metadata": {
    "vscode": {
     "languageId": "plaintext"
    }
   },
   "outputs": [],
   "source": [
    "bq query \\\n",
    "--use_legacy_sql=false \\\n",
    "'SELECT * FROM `[PROJECT_ID].[DATASET].[TABLE]` LIMIT 10'"
   ]
  },
  {
   "cell_type": "code",
   "execution_count": null,
   "id": "a7d5e7b5",
   "metadata": {
    "vscode": {
     "languageId": "plaintext"
    }
   },
   "outputs": [],
   "source": [
    "bq query --use_legacy_sql=false \\\n",
    "'SELECT product, SUM(amount) as total FROM `my-project-id.sales_2024.transactions` GROUP BY product'"
   ]
  },
  {
   "cell_type": "markdown",
   "id": "d2ad83c6",
   "metadata": {},
   "source": [
    "## Mengekspor Data Data Tabel Ke GCS"
   ]
  },
  {
   "cell_type": "code",
   "execution_count": null,
   "id": "52e70fa2",
   "metadata": {
    "vscode": {
     "languageId": "plaintext"
    }
   },
   "outputs": [],
   "source": [
    "bq extract \\\n",
    "--destination_format=CSV \\\n",
    "[PROJECT_ID]:[DATASET].[TABLE] \\\n",
    "gs://[BUCKET_NAME]/[FILENAME.csv]"
   ]
  },
  {
   "cell_type": "code",
   "execution_count": null,
   "id": "075f26b8",
   "metadata": {
    "vscode": {
     "languageId": "plaintext"
    }
   },
   "outputs": [],
   "source": [
    "bq extract --destination_format=CSV \\\n",
    "my-project-id:sales_2024.transactions \\\n",
    "gs://my-bucket/exports/transactions.csv"
   ]
  },
  {
   "cell_type": "markdown",
   "id": "78612453",
   "metadata": {},
   "source": [
    "## Menghapus Tabel"
   ]
  },
  {
   "cell_type": "code",
   "execution_count": null,
   "id": "0a4e902d",
   "metadata": {
    "vscode": {
     "languageId": "plaintext"
    }
   },
   "outputs": [],
   "source": [
    "bq rm -t [PROJECT_ID]:[DATASET].[TABLE]"
   ]
  },
  {
   "cell_type": "markdown",
   "id": "82eb7a63",
   "metadata": {},
   "source": [
    "## Menghapus Dataset"
   ]
  },
  {
   "cell_type": "code",
   "execution_count": null,
   "id": "7eb4c5b9",
   "metadata": {
    "vscode": {
     "languageId": "plaintext"
    }
   },
   "outputs": [],
   "source": [
    "bq rm -r -d [PROJECT_ID]:[DATASET]"
   ]
  },
  {
   "cell_type": "markdown",
   "id": "379a3485",
   "metadata": {},
   "source": [
    "## Melihat Informasi Tabel"
   ]
  },
  {
   "cell_type": "code",
   "execution_count": null,
   "id": "a27a99fc",
   "metadata": {
    "vscode": {
     "languageId": "plaintext"
    }
   },
   "outputs": [],
   "source": [
    "bq show [PROJECT_ID]:[DATASET].[TABLE]"
   ]
  },
  {
   "cell_type": "code",
   "execution_count": null,
   "id": "e23719a3",
   "metadata": {
    "vscode": {
     "languageId": "plaintext"
    }
   },
   "outputs": [],
   "source": [
    "bq show my-project-id:sales_2024.transactions"
   ]
  },
  {
   "cell_type": "markdown",
   "id": "4de1cc8d",
   "metadata": {},
   "source": [
    "## Menyalin Tabel"
   ]
  },
  {
   "cell_type": "code",
   "execution_count": null,
   "id": "f26d017d",
   "metadata": {
    "vscode": {
     "languageId": "plaintext"
    }
   },
   "outputs": [],
   "source": [
    "bq cp \\\n",
    "[PROJECT_ID]:[DATASET].[SOURCE_TABLE] \\\n",
    "[PROJECT_ID]:[DATASET].[DEST_TABLE]"
   ]
  },
  {
   "cell_type": "code",
   "execution_count": null,
   "id": "b4b837a2",
   "metadata": {
    "vscode": {
     "languageId": "plaintext"
    }
   },
   "outputs": [],
   "source": [
    "bq cp my-project-id:sales_2024.transactions my-project-id:sales_2024.transactions_backup"
   ]
  }
 ],
 "metadata": {
  "language_info": {
   "name": "python"
  }
 },
 "nbformat": 4,
 "nbformat_minor": 5
}
