{
 "cells": [
  {
   "cell_type": "markdown",
   "id": "164e8770",
   "metadata": {},
   "source": [
    "# Folder"
   ]
  },
  {
   "cell_type": "markdown",
   "id": "61faf9f5",
   "metadata": {},
   "source": [
    "## Buat Folder Baru"
   ]
  },
  {
   "cell_type": "code",
   "execution_count": null,
   "id": "59394c2f",
   "metadata": {
    "vscode": {
     "languageId": "plaintext"
    }
   },
   "outputs": [],
   "source": [
    "gcloud resource-manager folders create --display-name=\"Nama Folder\" --organization=[ORG_ID]"
   ]
  },
  {
   "cell_type": "markdown",
   "id": "3d94463e",
   "metadata": {},
   "source": [
    "## Melihat Semua Folder"
   ]
  },
  {
   "cell_type": "code",
   "execution_count": null,
   "id": "6749a4be",
   "metadata": {
    "vscode": {
     "languageId": "plaintext"
    }
   },
   "outputs": [],
   "source": [
    "gcloud resource-manager folders list --organization=[ORG_ID]"
   ]
  },
  {
   "cell_type": "markdown",
   "id": "872f4413",
   "metadata": {},
   "source": [
    "## Melihat Folder dalam Folder (Subfolder)"
   ]
  },
  {
   "cell_type": "code",
   "execution_count": null,
   "id": "0f4956c5",
   "metadata": {
    "vscode": {
     "languageId": "plaintext"
    }
   },
   "outputs": [],
   "source": [
    "gcloud resource-manager folders list --folder=[PARENT_FOLDER_ID]"
   ]
  },
  {
   "cell_type": "markdown",
   "id": "bc131a46",
   "metadata": {},
   "source": [
    "## Mengganti Nama Folder"
   ]
  },
  {
   "cell_type": "code",
   "execution_count": null,
   "id": "62ea7216",
   "metadata": {
    "vscode": {
     "languageId": "plaintext"
    }
   },
   "outputs": [],
   "source": [
    "gcloud resource-manager folders update [FOLDER_ID] --display-name=\"Nama Baru\""
   ]
  },
  {
   "cell_type": "markdown",
   "id": "82bc8726",
   "metadata": {},
   "source": [
    "## Menghapus Folder"
   ]
  },
  {
   "cell_type": "code",
   "execution_count": null,
   "id": "462e5e60",
   "metadata": {
    "vscode": {
     "languageId": "plaintext"
    }
   },
   "outputs": [],
   "source": [
    "gcloud resource-manager folders delete [FOLDER_ID]"
   ]
  }
 ],
 "metadata": {
  "language_info": {
   "name": "python"
  }
 },
 "nbformat": 4,
 "nbformat_minor": 5
}
