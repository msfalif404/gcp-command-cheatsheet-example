{
 "cells": [
  {
   "cell_type": "markdown",
   "id": "48ef9aa3",
   "metadata": {},
   "source": [
    "# Organization"
   ]
  },
  {
   "cell_type": "markdown",
   "id": "69448959",
   "metadata": {},
   "source": [
    "## Melihat Organization"
   ]
  },
  {
   "cell_type": "code",
   "execution_count": null,
   "id": "b12ca41a",
   "metadata": {
    "vscode": {
     "languageId": "plaintext"
    }
   },
   "outputs": [],
   "source": [
    "gcloud organizations list"
   ]
  },
  {
   "cell_type": "markdown",
   "id": "e613e000",
   "metadata": {},
   "source": [
    "## Lihat Detail Organization"
   ]
  },
  {
   "cell_type": "code",
   "execution_count": null,
   "id": "ad1d5133",
   "metadata": {
    "vscode": {
     "languageId": "plaintext"
    }
   },
   "outputs": [],
   "source": [
    "gcloud organizations describe [ORGANIZATION_ID]"
   ]
  }
 ],
 "metadata": {
  "language_info": {
   "name": "python"
  }
 },
 "nbformat": 4,
 "nbformat_minor": 5
}
