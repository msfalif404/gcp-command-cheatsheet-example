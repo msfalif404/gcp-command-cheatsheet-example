{
 "cells": [
  {
   "cell_type": "markdown",
   "id": "18b9eef8",
   "metadata": {},
   "source": [
    "# Project"
   ]
  },
  {
   "cell_type": "markdown",
   "id": "7e56051c",
   "metadata": {},
   "source": [
    "## Membuat Project Baru"
   ]
  },
  {
   "cell_type": "code",
   "execution_count": null,
   "id": "acd7f2c2",
   "metadata": {
    "vscode": {
     "languageId": "plaintext"
    }
   },
   "outputs": [],
   "source": [
    "gcloud projects create [PROJECT_ID] \\\n",
    "--name=\"Nama Project\" \\\n",
    "--folder=[FOLDER_ID] # atau --organization=[ORG_ID]"
   ]
  },
  {
   "cell_type": "markdown",
   "id": "0be600c8",
   "metadata": {},
   "source": [
    "## Melihat Semua Project"
   ]
  },
  {
   "cell_type": "code",
   "execution_count": null,
   "id": "5096ec13",
   "metadata": {
    "vscode": {
     "languageId": "plaintext"
    }
   },
   "outputs": [],
   "source": [
    "gcloud projects list"
   ]
  },
  {
   "cell_type": "markdown",
   "id": "3bd2cd51",
   "metadata": {},
   "source": [
    "## Mengganti Nama Project"
   ]
  },
  {
   "cell_type": "code",
   "execution_count": null,
   "id": "14183f4e",
   "metadata": {
    "vscode": {
     "languageId": "plaintext"
    }
   },
   "outputs": [],
   "source": [
    "gcloud projects update [PROJECT_ID] --name=\"Nama Baru\""
   ]
  },
  {
   "cell_type": "markdown",
   "id": "aa207d8f",
   "metadata": {},
   "source": [
    "## Menghapus Project (Soft Delete, bisa restore 30 hari)"
   ]
  },
  {
   "cell_type": "code",
   "execution_count": null,
   "id": "bc9c493a",
   "metadata": {
    "vscode": {
     "languageId": "plaintext"
    }
   },
   "outputs": [],
   "source": [
    "gcloud projects delete [PROJECT_ID]"
   ]
  },
  {
   "cell_type": "markdown",
   "id": "23bf8f5a",
   "metadata": {},
   "source": [
    "## Set Project Aktif"
   ]
  },
  {
   "cell_type": "code",
   "execution_count": null,
   "id": "bec77255",
   "metadata": {
    "vscode": {
     "languageId": "plaintext"
    }
   },
   "outputs": [],
   "source": [
    "gcloud config set project [PROJECT_ID]"
   ]
  }
 ],
 "metadata": {
  "language_info": {
   "name": "python"
  }
 },
 "nbformat": 4,
 "nbformat_minor": 5
}
