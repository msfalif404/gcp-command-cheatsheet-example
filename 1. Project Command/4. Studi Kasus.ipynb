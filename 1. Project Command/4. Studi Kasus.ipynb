{
 "cells": [
  {
   "cell_type": "markdown",
   "id": "ae3e5673",
   "metadata": {},
   "source": [
    "# Studi Kasus (Incoming)"
   ]
  },
  {
   "cell_type": "markdown",
   "id": "4a753f39",
   "metadata": {},
   "source": [
    "#### Useful Resource\n",
    "- https://chatgpt.com/c/6831c6d2-437c-8005-946c-4b13354c9bb4"
   ]
  }
 ],
 "metadata": {
  "language_info": {
   "name": "python"
  }
 },
 "nbformat": 4,
 "nbformat_minor": 5
}
