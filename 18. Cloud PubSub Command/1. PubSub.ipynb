{
 "cells": [
  {
   "cell_type": "markdown",
   "id": "2093f808",
   "metadata": {},
   "source": [
    "# Pub/Sub"
   ]
  },
  {
   "cell_type": "markdown",
   "id": "1eadf7bd",
   "metadata": {},
   "source": [
    "## Membuat Topic"
   ]
  },
  {
   "cell_type": "code",
   "execution_count": null,
   "id": "c88b13c2",
   "metadata": {
    "vscode": {
     "languageId": "plaintext"
    }
   },
   "outputs": [],
   "source": [
    "gcloud pubsub topics create [TOPIC_ID]"
   ]
  },
  {
   "cell_type": "code",
   "execution_count": null,
   "id": "2a221935",
   "metadata": {
    "vscode": {
     "languageId": "plaintext"
    }
   },
   "outputs": [],
   "source": [
    "gcloud pubsub topics create my-topic"
   ]
  },
  {
   "cell_type": "markdown",
   "id": "e0117962",
   "metadata": {},
   "source": [
    "## Melihat Daftar Topic"
   ]
  },
  {
   "cell_type": "code",
   "execution_count": null,
   "id": "12c0bfbb",
   "metadata": {
    "vscode": {
     "languageId": "plaintext"
    }
   },
   "outputs": [],
   "source": [
    "gcloud pubsub topics list"
   ]
  },
  {
   "cell_type": "markdown",
   "id": "09f270ec",
   "metadata": {},
   "source": [
    "## Menghapus Topic"
   ]
  },
  {
   "cell_type": "code",
   "execution_count": null,
   "id": "6309db1e",
   "metadata": {
    "vscode": {
     "languageId": "plaintext"
    }
   },
   "outputs": [],
   "source": [
    "gcloud pubsub topics delete [TOPIC_ID]"
   ]
  },
  {
   "cell_type": "code",
   "execution_count": null,
   "id": "4809293c",
   "metadata": {
    "vscode": {
     "languageId": "plaintext"
    }
   },
   "outputs": [],
   "source": [
    "gcloud pubsub topics delete my-topic"
   ]
  },
  {
   "cell_type": "markdown",
   "id": "0f427959",
   "metadata": {},
   "source": [
    "## Publish Pesan Ke Topic"
   ]
  },
  {
   "cell_type": "code",
   "execution_count": null,
   "id": "535b521a",
   "metadata": {
    "vscode": {
     "languageId": "plaintext"
    }
   },
   "outputs": [],
   "source": [
    "gcloud pubsub topics publish [TOPIC_ID] --message=\"Pesan Anda\""
   ]
  },
  {
   "cell_type": "code",
   "execution_count": null,
   "id": "21f71e74",
   "metadata": {
    "vscode": {
     "languageId": "plaintext"
    }
   },
   "outputs": [],
   "source": [
    "gcloud pubsub topics publish my-topic --message=\"Halo Dunia!\" \\\n",
    "--attribute=origin=web,env=prod"
   ]
  },
  {
   "cell_type": "markdown",
   "id": "1c839a2d",
   "metadata": {},
   "source": [
    "## Membuat Subscription"
   ]
  },
  {
   "cell_type": "code",
   "execution_count": null,
   "id": "326b0fb1",
   "metadata": {
    "vscode": {
     "languageId": "plaintext"
    }
   },
   "outputs": [],
   "source": [
    "gcloud pubsub subscriptions create [SUBSCRIPTION_ID] --topic=[TOPIC_ID]"
   ]
  },
  {
   "cell_type": "code",
   "execution_count": null,
   "id": "0455b288",
   "metadata": {
    "vscode": {
     "languageId": "plaintext"
    }
   },
   "outputs": [],
   "source": [
    "gcloud pubsub subscriptions create my-sub --topic=my-topic"
   ]
  },
  {
   "cell_type": "code",
   "execution_count": null,
   "id": "73d5babb",
   "metadata": {
    "vscode": {
     "languageId": "plaintext"
    }
   },
   "outputs": [],
   "source": [
    "gcloud pubsub subscriptions create my-sub \\\n",
    "  --topic=my-topic \\\n",
    "  --ack-deadline=30 \\\n",
    "  --expiration-period=never"
   ]
  },
  {
   "cell_type": "markdown",
   "id": "4275766c",
   "metadata": {},
   "source": [
    "## Menampilkan Daftar Subscription"
   ]
  },
  {
   "cell_type": "code",
   "execution_count": null,
   "id": "6d3fcd5d",
   "metadata": {
    "vscode": {
     "languageId": "plaintext"
    }
   },
   "outputs": [],
   "source": [
    "gcloud pubsub subscriptions list"
   ]
  },
  {
   "cell_type": "markdown",
   "id": "584c4eb8",
   "metadata": {},
   "source": [
    "## Menarik Pesan dari Subscription"
   ]
  },
  {
   "cell_type": "code",
   "execution_count": null,
   "id": "998f518c",
   "metadata": {
    "vscode": {
     "languageId": "plaintext"
    }
   },
   "outputs": [],
   "source": [
    "gcloud pubsub subscriptions pull [SUBSCRIPTION_ID] --limit=[N] --auto-ack"
   ]
  },
  {
   "cell_type": "code",
   "execution_count": null,
   "id": "95ec2b84",
   "metadata": {
    "vscode": {
     "languageId": "plaintext"
    }
   },
   "outputs": [],
   "source": [
    "gcloud pubsub subscriptions pull my-sub --limit=5 --auto-ack"
   ]
  },
  {
   "cell_type": "markdown",
   "id": "597ac21f",
   "metadata": {},
   "source": [
    "## Mengakui Pesan"
   ]
  },
  {
   "cell_type": "code",
   "execution_count": null,
   "id": "59baf31c",
   "metadata": {
    "vscode": {
     "languageId": "plaintext"
    }
   },
   "outputs": [],
   "source": [
    "gcloud pubsub subscriptions ack [SUBSCRIPTION_ID] --ack-ids=[ACK_IDs]"
   ]
  },
  {
   "cell_type": "markdown",
   "id": "42dfc34f",
   "metadata": {},
   "source": [
    "## Menghapus Subscription"
   ]
  },
  {
   "cell_type": "code",
   "execution_count": null,
   "id": "c54ec8e9",
   "metadata": {
    "vscode": {
     "languageId": "plaintext"
    }
   },
   "outputs": [],
   "source": [
    "gcloud pubsub subscriptions delete [SUBSCRIPTION_ID]"
   ]
  }
 ],
 "metadata": {
  "language_info": {
   "name": "python"
  }
 },
 "nbformat": 4,
 "nbformat_minor": 5
}
