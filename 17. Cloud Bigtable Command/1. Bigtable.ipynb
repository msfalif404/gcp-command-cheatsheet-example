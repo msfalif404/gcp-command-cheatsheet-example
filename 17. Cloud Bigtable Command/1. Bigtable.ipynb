{
 "cells": [
  {
   "cell_type": "markdown",
   "id": "c87e9bd8",
   "metadata": {},
   "source": [
    "# Bigtable"
   ]
  },
  {
   "cell_type": "markdown",
   "id": "75d3a461",
   "metadata": {},
   "source": [
    "## Membuat Instance"
   ]
  },
  {
   "cell_type": "code",
   "execution_count": null,
   "id": "ae7f8d75",
   "metadata": {
    "vscode": {
     "languageId": "plaintext"
    }
   },
   "outputs": [],
   "source": [
    "gcloud bigtable instances create [INSTANCE_ID] \\\n",
    "  --cluster=[CLUSTER_ID] \\\n",
    "  --cluster-zone=[ZONE] \\\n",
    "  --display-name=[DISPLAY_NAME] \\\n",
    "  --cluster-num-nodes=[NUMBER] \\\n",
    "  --cluster-storage-type=[STORAGE_TYPE]"
   ]
  },
  {
   "cell_type": "code",
   "execution_count": null,
   "id": "d38fc265",
   "metadata": {
    "vscode": {
     "languageId": "plaintext"
    }
   },
   "outputs": [],
   "source": [
    "gcloud bigtable instances create my-instance \\\n",
    "  --cluster=my-cluster \\\n",
    "  --cluster-zone=us-central1-b \\\n",
    "  --display-name=\"My Production Instance\" \\\n",
    "  --cluster-num-nodes=3 \\\n",
    "  --cluster-storage-type=SSD"
   ]
  },
  {
   "cell_type": "markdown",
   "id": "8a200799",
   "metadata": {},
   "source": [
    "## Melihat Daftar Instance"
   ]
  },
  {
   "cell_type": "code",
   "execution_count": null,
   "id": "bbbcfeda",
   "metadata": {
    "vscode": {
     "languageId": "plaintext"
    }
   },
   "outputs": [],
   "source": [
    "gcloud bigtable instances list"
   ]
  },
  {
   "cell_type": "markdown",
   "id": "811d03d0",
   "metadata": {},
   "source": [
    "## Melihat Detail Instance"
   ]
  },
  {
   "cell_type": "code",
   "execution_count": null,
   "id": "03fe4a59",
   "metadata": {
    "vscode": {
     "languageId": "plaintext"
    }
   },
   "outputs": [],
   "source": [
    "gcloud bigtable instances describe [INSTANCE_ID]"
   ]
  },
  {
   "cell_type": "markdown",
   "id": "224ddb95",
   "metadata": {},
   "source": [
    "## Menghapus Instance"
   ]
  },
  {
   "cell_type": "code",
   "execution_count": null,
   "id": "fc84b015",
   "metadata": {
    "vscode": {
     "languageId": "plaintext"
    }
   },
   "outputs": [],
   "source": [
    "gcloud bigtable instances delete [INSTANCE_ID]"
   ]
  },
  {
   "cell_type": "markdown",
   "id": "8c2cabbe",
   "metadata": {},
   "source": [
    "## Menambahkan Cluster Ke Instance"
   ]
  },
  {
   "cell_type": "code",
   "execution_count": null,
   "id": "5e9105e6",
   "metadata": {
    "vscode": {
     "languageId": "plaintext"
    }
   },
   "outputs": [],
   "source": [
    "gcloud bigtable clusters create [CLUSTER_ID] \\\n",
    "  --instance=[INSTANCE_ID] \\\n",
    "  --zone=[ZONE] \\\n",
    "  --num-nodes=[NUMBER] \\\n",
    "  --storage-type=[STORAGE_TYPE]"
   ]
  },
  {
   "cell_type": "code",
   "execution_count": null,
   "id": "b7ee486a",
   "metadata": {
    "vscode": {
     "languageId": "plaintext"
    }
   },
   "outputs": [],
   "source": [
    "gcloud bigtable clusters create backup-cluster \\\n",
    "  --instance=my-instance \\\n",
    "  --zone=us-east1-b \\\n",
    "  --num-nodes=3 \\\n",
    "  --storage-type=HDD"
   ]
  },
  {
   "cell_type": "markdown",
   "id": "d9a0dfbb",
   "metadata": {},
   "source": [
    "## Mengubah Jumlah Node Cluster"
   ]
  },
  {
   "cell_type": "code",
   "execution_count": null,
   "id": "6bf85df2",
   "metadata": {
    "vscode": {
     "languageId": "plaintext"
    }
   },
   "outputs": [],
   "source": [
    "gcloud bigtable clusters update [CLUSTER_ID] \\\n",
    "  --instance=[INSTANCE_ID] \\\n",
    "  --num-nodes=[NEW_NUMBER]"
   ]
  },
  {
   "cell_type": "markdown",
   "id": "c391cb73",
   "metadata": {},
   "source": [
    "## Menghapus Cluster"
   ]
  },
  {
   "cell_type": "code",
   "execution_count": null,
   "id": "50cdbc74",
   "metadata": {
    "vscode": {
     "languageId": "plaintext"
    }
   },
   "outputs": [],
   "source": [
    "gcloud bigtable clusters delete [CLUSTER_ID] \\\n",
    "  --instance=[INSTANCE_ID]"
   ]
  },
  {
   "cell_type": "markdown",
   "id": "42d85e4b",
   "metadata": {},
   "source": [
    "## Membuat Tabel"
   ]
  },
  {
   "cell_type": "code",
   "execution_count": null,
   "id": "c96bac26",
   "metadata": {
    "vscode": {
     "languageId": "plaintext"
    }
   },
   "outputs": [],
   "source": [
    "gcloud bigtable tables create [TABLE_ID] \\\n",
    "  --instance=[INSTANCE_ID]"
   ]
  },
  {
   "cell_type": "markdown",
   "id": "8273a473",
   "metadata": {},
   "source": [
    "## Menambahkan Column Family"
   ]
  },
  {
   "cell_type": "code",
   "execution_count": null,
   "id": "a22bc1e3",
   "metadata": {
    "vscode": {
     "languageId": "plaintext"
    }
   },
   "outputs": [],
   "source": [
    "gcloud bigtable column-families create [COLUMN_FAMILY_ID] \\\n",
    "  --instance=[INSTANCE_ID] \\\n",
    "  --table=[TABLE_ID]"
   ]
  },
  {
   "cell_type": "code",
   "execution_count": null,
   "id": "0dad8f0b",
   "metadata": {
    "vscode": {
     "languageId": "plaintext"
    }
   },
   "outputs": [],
   "source": [
    "gcloud bigtable tables create user-data --instance=my-instance\n",
    "\n",
    "gcloud bigtable column-families create cf1 \\\n",
    "  --instance=my-instance \\\n",
    "  --table=user-data"
   ]
  },
  {
   "cell_type": "markdown",
   "id": "51de8a01",
   "metadata": {},
   "source": [
    "## Melihat Daftar Tabel"
   ]
  },
  {
   "cell_type": "code",
   "execution_count": null,
   "id": "d343c103",
   "metadata": {
    "vscode": {
     "languageId": "plaintext"
    }
   },
   "outputs": [],
   "source": [
    "gcloud bigtable tables list --instance=[INSTANCE_ID]"
   ]
  },
  {
   "cell_type": "markdown",
   "id": "d02dde24",
   "metadata": {},
   "source": [
    "## Menghapus Tabel"
   ]
  },
  {
   "cell_type": "code",
   "execution_count": null,
   "id": "b12c9c90",
   "metadata": {
    "vscode": {
     "languageId": "plaintext"
    }
   },
   "outputs": [],
   "source": [
    "gcloud bigtable tables delete [TABLE_ID] \\\n",
    "  --instance=[INSTANCE_ID]"
   ]
  }
 ],
 "metadata": {
  "language_info": {
   "name": "python"
  }
 },
 "nbformat": 4,
 "nbformat_minor": 5
}
