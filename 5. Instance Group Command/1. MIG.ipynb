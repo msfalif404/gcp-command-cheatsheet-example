{
 "cells": [
  {
   "cell_type": "markdown",
   "id": "6b1edecf",
   "metadata": {},
   "source": [
    "# MIG"
   ]
  },
  {
   "cell_type": "markdown",
   "id": "42751543",
   "metadata": {},
   "source": [
    "## Membuat Instances Template"
   ]
  },
  {
   "cell_type": "code",
   "execution_count": null,
   "id": "203e558e",
   "metadata": {
    "vscode": {
     "languageId": "plaintext"
    }
   },
   "outputs": [],
   "source": [
    "gcloud compute instance-templates create [TEMPLATE_NAME] \\\n",
    "--machine-type=[MACHINE_TYPE] \\\n",
    "--image-family=[IMAGE_FAMILY] \\\n",
    "--image-project=[IMAGE_PROJECT] \\\n",
    "--boot-disk-size=[SIZE] \\\n",
    "--tags [TAGS] \\\n",
    "--metadata startup-script='STARTUP_SCRIPT'"
   ]
  },
  {
   "cell_type": "code",
   "execution_count": null,
   "id": "47819d16",
   "metadata": {
    "vscode": {
     "languageId": "plaintext"
    }
   },
   "outputs": [],
   "source": [
    "gcloud compute instance-templates create web-template \\\n",
    "    --machine-type e2-medium \\\n",
    "    --image-family debian-11 \\\n",
    "    --image-project debian-cloud \\\n",
    "    --boot-disk-size 10GB \\\n",
    "    --tags http-server \\\n",
    "    --metadata startup-script='#!/bin/bash\n",
    "      sudo apt update\n",
    "      sudo apt install -y apache2\n",
    "      sudo systemctl start apache2'"
   ]
  },
  {
   "cell_type": "markdown",
   "id": "d5dcda9d",
   "metadata": {},
   "source": [
    "## Membuat MIG"
   ]
  },
  {
   "cell_type": "code",
   "execution_count": null,
   "id": "08551d5b",
   "metadata": {
    "vscode": {
     "languageId": "plaintext"
    }
   },
   "outputs": [],
   "source": [
    "gcloud compute instance-groups managed create [MIG_NAME] \\\n",
    "--base-instance-name=[BASE_INSTANCE_NAME] \\\n",
    "--size=[SIZE] \\\n",
    "--template=[INSTANCES_TEMPLATE_NAME] \\\n",
    "--zone=[ZONE]"
   ]
  },
  {
   "cell_type": "code",
   "execution_count": null,
   "id": "a994c9fa",
   "metadata": {
    "vscode": {
     "languageId": "plaintext"
    }
   },
   "outputs": [],
   "source": [
    "gcloud compute instance-groups managed create web-group \\\n",
    "    --base-instance-name web \\\n",
    "    --size 3 \\\n",
    "    --template web-template \\\n",
    "    --zone us-central1-a"
   ]
  },
  {
   "cell_type": "markdown",
   "id": "dad5b6c0",
   "metadata": {},
   "source": [
    "## Melihat Daftar MIG"
   ]
  },
  {
   "cell_type": "code",
   "execution_count": null,
   "id": "21a7a38e",
   "metadata": {
    "vscode": {
     "languageId": "plaintext"
    }
   },
   "outputs": [],
   "source": [
    "gcloud compute instance-groups managed list"
   ]
  },
  {
   "cell_type": "markdown",
   "id": "f2d0fd59",
   "metadata": {},
   "source": [
    "## Melihat Detail MIG"
   ]
  },
  {
   "cell_type": "code",
   "execution_count": null,
   "id": "01e71de8",
   "metadata": {
    "vscode": {
     "languageId": "plaintext"
    }
   },
   "outputs": [],
   "source": [
    "gcloud compute instance-groups managed describe [MIG_NAME] \\\n",
    "--zone=[ZONE] | --region="
   ]
  },
  {
   "cell_type": "markdown",
   "id": "fbb17448",
   "metadata": {},
   "source": [
    "## Menambahkan Lebih Banyak Instance"
   ]
  },
  {
   "cell_type": "code",
   "execution_count": null,
   "id": "7ce55eea",
   "metadata": {
    "vscode": {
     "languageId": "plaintext"
    }
   },
   "outputs": [],
   "source": [
    "gcloud compute instance-groups managed resize [MIG_NAME] \\\n",
    "--size=[NEW_SIZE]\n",
    "--zone=[ZONE] | --region=[REGION]"
   ]
  },
  {
   "cell_type": "code",
   "execution_count": null,
   "id": "2525190b",
   "metadata": {
    "vscode": {
     "languageId": "plaintext"
    }
   },
   "outputs": [],
   "source": [
    "gcloud compute instance-groups managed resize web-group --size 5 --zone us-central1-a"
   ]
  },
  {
   "cell_type": "markdown",
   "id": "4aa254c0",
   "metadata": {},
   "source": [
    "## Menghapus MIG"
   ]
  },
  {
   "cell_type": "code",
   "execution_count": null,
   "id": "8b5f59b3",
   "metadata": {
    "vscode": {
     "languageId": "plaintext"
    }
   },
   "outputs": [],
   "source": [
    "gcloud compute instance-groups managed delete [MIG_NAME] \\\n",
    "--zone=[ZONE] | --region=[REGION]"
   ]
  },
  {
   "cell_type": "markdown",
   "id": "89e83e8a",
   "metadata": {},
   "source": [
    "## Menampilkan Daftar Instances Dalam MIG"
   ]
  },
  {
   "cell_type": "code",
   "execution_count": null,
   "id": "b7888ae6",
   "metadata": {
    "vscode": {
     "languageId": "plaintext"
    }
   },
   "outputs": [],
   "source": [
    "gcloud compute instance-groups managed list-instances [MIG_NAME] \\\n",
    "--zone=[ZONE] | --region=[REGION]"
   ]
  },
  {
   "cell_type": "markdown",
   "id": "685a9d4f",
   "metadata": {},
   "source": [
    "## Menambahkan Auto-healing Ke Dalam MIG"
   ]
  },
  {
   "cell_type": "code",
   "execution_count": null,
   "id": "7d0d906e",
   "metadata": {
    "vscode": {
     "languageId": "plaintext"
    }
   },
   "outputs": [],
   "source": [
    "gcloud compute instance-groups managed update [MIG_NAME] \\\n",
    "--health-check=[HEALTH_CHECK_NAME] \\\n",
    "--initial-delay=[DELAY] \\\n",
    "--zone=[ZONE]"
   ]
  },
  {
   "cell_type": "code",
   "execution_count": null,
   "id": "46d4f50f",
   "metadata": {
    "vscode": {
     "languageId": "plaintext"
    }
   },
   "outputs": [],
   "source": [
    "gcloud compute instance-groups managed update web-group \\\n",
    "    --health-check web-health-check \\\n",
    "    --initial-delay 300 \\\n",
    "    --zone us-central1-a"
   ]
  },
  {
   "cell_type": "markdown",
   "id": "0a0d0019",
   "metadata": {},
   "source": [
    "## Mengaktifkan Autoscaling"
   ]
  },
  {
   "cell_type": "code",
   "execution_count": null,
   "id": "4133e002",
   "metadata": {
    "vscode": {
     "languageId": "plaintext"
    }
   },
   "outputs": [],
   "source": [
    "gcloud compute instance-groups managed set-autoscaling NAME \\\n",
    "    --max-num-replicas [MAX] \\\n",
    "    --min-num-replicas [MIN] \\\n",
    "    --target-cpu-utilization [TARGET] \\\n",
    "    --cool-down-period [SECONDS] \\\n",
    "    --zone [ZONE] | --region [REGION]"
   ]
  },
  {
   "cell_type": "code",
   "execution_count": null,
   "id": "141a08d9",
   "metadata": {
    "vscode": {
     "languageId": "plaintext"
    }
   },
   "outputs": [],
   "source": [
    "gcloud compute instance-groups managed set-autoscaling web-group \\\n",
    "    --max-num-replicas 10 \\\n",
    "    --min-num-replicas 2 \\\n",
    "    --target-cpu-utilization 0.6 \\\n",
    "    --cool-down-period 90 \\\n",
    "    --zone us-central1-a"
   ]
  },
  {
   "cell_type": "markdown",
   "id": "7e41be17",
   "metadata": {},
   "source": [
    "## Menghubungkan MIG ke Load Balancer"
   ]
  },
  {
   "cell_type": "code",
   "execution_count": null,
   "id": "d86d98d7",
   "metadata": {
    "vscode": {
     "languageId": "plaintext"
    }
   },
   "outputs": [],
   "source": [
    "gcloud compute instance-groups managed set-named-ports [MIG_NAME] \\\n",
    "    --named-ports [PORT_NAME]:[PORT_NUMBER] \\\n",
    "    --zone [ZONE]"
   ]
  },
  {
   "cell_type": "code",
   "execution_count": null,
   "id": "8083783b",
   "metadata": {
    "vscode": {
     "languageId": "plaintext"
    }
   },
   "outputs": [],
   "source": [
    "gcloud compute instance-groups managed set-named-ports web-group \\\n",
    "    --named-ports http:80 \\\n",
    "    --zone us-central1-a"
   ]
  },
  {
   "cell_type": "markdown",
   "id": "1e6d00b8",
   "metadata": {},
   "source": [
    "## Melakukan Rolling Update"
   ]
  },
  {
   "cell_type": "code",
   "execution_count": null,
   "id": "c06adbca",
   "metadata": {
    "vscode": {
     "languageId": "plaintext"
    }
   },
   "outputs": [],
   "source": [
    "gcloud compute instance-groups managed rolling-action start-update [MIG_NAME] \\\n",
    "    --version template=[NEW-TEMPLATE-NAME] \\\n",
    "    --zone ZONE"
   ]
  }
 ],
 "metadata": {
  "language_info": {
   "name": "python"
  }
 },
 "nbformat": 4,
 "nbformat_minor": 5
}
