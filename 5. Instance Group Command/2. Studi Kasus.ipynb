{
 "cells": [
  {
   "cell_type": "markdown",
   "id": "133efe1a",
   "metadata": {},
   "source": [
    "# Studi Kasus (Incoming)"
   ]
  },
  {
   "cell_type": "markdown",
   "id": "bd68b726",
   "metadata": {},
   "source": [
    "## Usefull Resource:\n",
    "\n",
    "- https://chatgpt.com/c/6831dcb6-fc68-8005-953d-7af6832aae5c"
   ]
  }
 ],
 "metadata": {
  "language_info": {
   "name": "python"
  }
 },
 "nbformat": 4,
 "nbformat_minor": 5
}
