{
 "cells": [
  {
   "cell_type": "markdown",
   "id": "fae0c8df",
   "metadata": {},
   "source": [
    "# IAM"
   ]
  },
  {
   "cell_type": "markdown",
   "id": "232713f4",
   "metadata": {},
   "source": [
    "## Melihat IAM Policy Sebuah Project"
   ]
  },
  {
   "cell_type": "code",
   "execution_count": null,
   "id": "9f31b714",
   "metadata": {
    "vscode": {
     "languageId": "plaintext"
    }
   },
   "outputs": [],
   "source": [
    "gcloud projects get-iam-policy [PROJECT_ID]"
   ]
  },
  {
   "cell_type": "code",
   "execution_count": null,
   "id": "1bdac8f7",
   "metadata": {
    "vscode": {
     "languageId": "plaintext"
    }
   },
   "outputs": [],
   "source": [
    "gcloud projects get-iam-policy my-project-id"
   ]
  },
  {
   "cell_type": "markdown",
   "id": "94be11d3",
   "metadata": {},
   "source": [
    "## Menambahkan Role ke User / IAM Binding"
   ]
  },
  {
   "cell_type": "code",
   "execution_count": null,
   "id": "9bf0b70d",
   "metadata": {
    "vscode": {
     "languageId": "plaintext"
    }
   },
   "outputs": [],
   "source": [
    "gcloud projects add-iam-policy-binding [PROJECT_ID] \\\n",
    "  --member=\"[MEMBER]\" \\\n",
    "  --role=\"[ROLE]\""
   ]
  },
  {
   "cell_type": "code",
   "execution_count": null,
   "id": "0fbce3a6",
   "metadata": {
    "vscode": {
     "languageId": "plaintext"
    }
   },
   "outputs": [],
   "source": [
    "gcloud projects add-iam-policy-binding my-project-id \\\n",
    "  --member=\"user:andi@example.com\" \\\n",
    "  --role=\"roles/viewer\""
   ]
  },
  {
   "cell_type": "markdown",
   "id": "50620069",
   "metadata": {},
   "source": [
    "## Menghapus Role Dari User"
   ]
  },
  {
   "cell_type": "code",
   "execution_count": null,
   "id": "8f36c6e2",
   "metadata": {
    "vscode": {
     "languageId": "plaintext"
    }
   },
   "outputs": [],
   "source": [
    "gcloud projects remove-iam-policy-binding [PROJECT_ID] \\\n",
    "  --member=\"[MEMBER]\" \\\n",
    "  --role=\"[ROLE]\""
   ]
  },
  {
   "cell_type": "code",
   "execution_count": null,
   "id": "bf8890c0",
   "metadata": {
    "vscode": {
     "languageId": "plaintext"
    }
   },
   "outputs": [],
   "source": [
    "gcloud projects remove-iam-policy-binding my-project-id \\\n",
    "  --member=\"user:andi@example.com\" \\\n",
    "  --role=\"roles/viewer\""
   ]
  },
  {
   "cell_type": "markdown",
   "id": "3c211ada",
   "metadata": {},
   "source": [
    "## Membuat Service Account"
   ]
  },
  {
   "cell_type": "code",
   "execution_count": null,
   "id": "3b6d5c9b",
   "metadata": {
    "vscode": {
     "languageId": "plaintext"
    }
   },
   "outputs": [],
   "source": [
    "gcloud iam service-accounts create [NAME] \\\n",
    "  --display-name=\"[DISPLAY_NAME]\""
   ]
  },
  {
   "cell_type": "code",
   "execution_count": null,
   "id": "0dcfd1ee",
   "metadata": {
    "vscode": {
     "languageId": "plaintext"
    }
   },
   "outputs": [],
   "source": [
    "gcloud iam service-accounts create data-analysis-sa \\\n",
    "  --display-name=\"Service Account for Data Analysis\""
   ]
  },
  {
   "cell_type": "markdown",
   "id": "28832225",
   "metadata": {},
   "source": [
    "## Memberi Role Ke Service Account"
   ]
  },
  {
   "cell_type": "code",
   "execution_count": null,
   "id": "484990d9",
   "metadata": {
    "vscode": {
     "languageId": "plaintext"
    }
   },
   "outputs": [],
   "source": [
    "gcloud projects add-iam-policy-binding [PROJECT_ID] \\\n",
    "  --member=\"serviceAccount:[SA_NAME]@[PROJECT_ID].iam.gserviceaccount.com\" \\\n",
    "  --role=\"[ROLE]\""
   ]
  },
  {
   "cell_type": "code",
   "execution_count": null,
   "id": "1df7086e",
   "metadata": {
    "vscode": {
     "languageId": "plaintext"
    }
   },
   "outputs": [],
   "source": [
    "gcloud projects add-iam-policy-binding my-project-id \\\n",
    "  --member=\"serviceAccount:data-analysis-sa@my-project-id.iam.gserviceaccount.com\" \\\n",
    "  --role=\"roles/storage.objectViewer\""
   ]
  },
  {
   "cell_type": "markdown",
   "id": "6ce55955",
   "metadata": {},
   "source": [
    "## Membuat Custom Role"
   ]
  },
  {
   "cell_type": "code",
   "execution_count": null,
   "id": "72f75bc7",
   "metadata": {
    "vscode": {
     "languageId": "plaintext"
    }
   },
   "outputs": [],
   "source": [
    "gcloud iam roles create [ROLE_ID] \\\n",
    "  --project=[PROJECT_ID] \\\n",
    "  --title=\"[TITLE]\" \\\n",
    "  --permissions=\"[PERMISSION1,PERMISSION2,...]\" \\\n",
    "  --stage=\"[STAGE]\""
   ]
  },
  {
   "cell_type": "code",
   "execution_count": null,
   "id": "99d852d4",
   "metadata": {
    "vscode": {
     "languageId": "plaintext"
    }
   },
   "outputs": [],
   "source": [
    "gcloud iam roles create dataViewerCustom \\\n",
    "  --project=my-project-id \\\n",
    "  --title=\"Custom Data Viewer Role\" \\\n",
    "  --permissions=storage.buckets.get,storage.objects.list \\\n",
    "  --stage=GA"
   ]
  },
  {
   "cell_type": "markdown",
   "id": "4f0b9944",
   "metadata": {},
   "source": [
    "## Melihat Role Default (Predefined)"
   ]
  },
  {
   "cell_type": "code",
   "execution_count": null,
   "id": "c2017448",
   "metadata": {
    "vscode": {
     "languageId": "plaintext"
    }
   },
   "outputs": [],
   "source": [
    "gcloud iam roles list"
   ]
  },
  {
   "cell_type": "markdown",
   "id": "e21352ed",
   "metadata": {},
   "source": [
    "## Melihat Role di Project Tertentu"
   ]
  },
  {
   "cell_type": "code",
   "execution_count": null,
   "id": "6620ca1a",
   "metadata": {
    "vscode": {
     "languageId": "plaintext"
    }
   },
   "outputs": [],
   "source": [
    "gcloud iam roles list --project=[PROJECT_ID]"
   ]
  },
  {
   "cell_type": "markdown",
   "id": "2b46fc3f",
   "metadata": {},
   "source": [
    "## IAM Conditions Berdasarkan Level Organization / Folder / Project"
   ]
  },
  {
   "cell_type": "code",
   "execution_count": null,
   "id": "05f5f7bf",
   "metadata": {
    "vscode": {
     "languageId": "plaintext"
    }
   },
   "outputs": [],
   "source": [
    "# gcloud organizations add-iam-policy-binding\n",
    "# gcloud folders add-iam-policy-binding\n",
    "\n",
    "gcloud projects add-iam-policy-binding my-project-id \\\n",
    "  --member=\"user:dev@example.com\" \\\n",
    "  --role=\"roles/storage.objectViewer\" \\\n",
    "  --condition=\"expression=request.time < timestamp('2025-12-31T23:59:59Z'),title=TemporaryAccess,description='Akses sementara sampai akhir 2025'\"\n"
   ]
  },
  {
   "cell_type": "markdown",
   "id": "943e50a3",
   "metadata": {},
   "source": [
    "## IAM Resource Level"
   ]
  },
  {
   "cell_type": "code",
   "execution_count": null,
   "id": "77333cd7",
   "metadata": {
    "vscode": {
     "languageId": "plaintext"
    }
   },
   "outputs": [],
   "source": [
    "gcloud storage buckets get-iam-policy [BUCKET_NAME]\n",
    "\n",
    "gcloud storage buckets add-iam-policy-binding [BUCKET_NAME] \\\n",
    "  --member=\"user:andi@example.com\" \\\n",
    "  --role=\"roles/storage.objectViewer\""
   ]
  },
  {
   "cell_type": "code",
   "execution_count": null,
   "id": "f48be83a",
   "metadata": {
    "vscode": {
     "languageId": "plaintext"
    }
   },
   "outputs": [],
   "source": [
    "gcloud bigquery datasets get-iam-policy [PROJECT_ID]:[DATASET_ID]\n",
    "\n",
    "gcloud bigquery datasets add-iam-policy-binding [PROJECT_ID]:[DATASET_ID] \\\n",
    "  --member=\"user:andi@example.com\" \\\n",
    "  --role=\"roles/bigquery.dataViewer\""
   ]
  },
  {
   "cell_type": "code",
   "execution_count": null,
   "id": "0ee87a33",
   "metadata": {
    "vscode": {
     "languageId": "plaintext"
    }
   },
   "outputs": [],
   "source": [
    "gcloud functions add-iam-policy-binding [FUNCTION_NAME] \\\n",
    "  --region=[REGION] \\\n",
    "  --member=\"user:andi@example.com\" \\\n",
    "  --role=\"roles/cloudfunctions.invoker\""
   ]
  },
  {
   "cell_type": "code",
   "execution_count": null,
   "id": "92fd0d85",
   "metadata": {
    "vscode": {
     "languageId": "plaintext"
    }
   },
   "outputs": [],
   "source": [
    "gcloud pubsub topics add-iam-policy-binding [TOPIC_NAME] \\\n",
    "  --member=\"user:andi@example.com\" \\\n",
    "  --role=\"roles/pubsub.publisher\""
   ]
  },
  {
   "cell_type": "code",
   "execution_count": null,
   "id": "da2f5850",
   "metadata": {
    "vscode": {
     "languageId": "plaintext"
    }
   },
   "outputs": [],
   "source": [
    "gcloud secrets add-iam-policy-binding [SECRET_NAME] \\\n",
    "  --member=\"user:andi@example.com\" \\\n",
    "  --role=\"roles/secretmanager.secretAccessor\"\n"
   ]
  }
 ],
 "metadata": {
  "language_info": {
   "name": "python"
  }
 },
 "nbformat": 4,
 "nbformat_minor": 5
}
