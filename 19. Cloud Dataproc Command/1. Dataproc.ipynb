{
 "cells": [
  {
   "cell_type": "markdown",
   "id": "0f0888d1",
   "metadata": {},
   "source": [
    "# Dataproc"
   ]
  },
  {
   "cell_type": "markdown",
   "id": "02324ecd",
   "metadata": {},
   "source": [
    "## Membuat Cluster"
   ]
  },
  {
   "cell_type": "code",
   "execution_count": null,
   "id": "e45cc36b",
   "metadata": {
    "vscode": {
     "languageId": "plaintext"
    }
   },
   "outputs": [],
   "source": [
    "gcloud dataproc clusters create [CLUSTER_NAME] \\\n",
    "  --region=[REGION] \\\n",
    "  --zone=[ZONE] \\\n",
    "  --master-machine-type=[TYPE] \\\n",
    "  --master-boot-disk-size=[SIZE_GB] \\\n",
    "  --num-workers=[NUM] \\\n",
    "  --worker-machine-type=[TYPE] \\\n",
    "  --worker-boot-disk-size=[SIZE_GB] \\\n",
    "  --image-version=[VERSION]"
   ]
  },
  {
   "cell_type": "markdown",
   "id": "edc23a09",
   "metadata": {},
   "source": [
    "gcloud dataproc clusters create sentiment-cluster \\\n",
    "  --region=us-central1 \\\n",
    "  --master-machine-type=n1-standard-2 \\\n",
    "  --worker-machine-type=n1-standard-2 \\\n",
    "  --num-workers=2 \\\n",
    "  --image-version=2.1-debian11"
   ]
  },
  {
   "cell_type": "markdown",
   "id": "0f7d1e00",
   "metadata": {},
   "source": [
    "## Menjalankan Job di Cluster"
   ]
  },
  {
   "cell_type": "code",
   "execution_count": null,
   "id": "31cf90af",
   "metadata": {
    "vscode": {
     "languageId": "plaintext"
    }
   },
   "outputs": [],
   "source": [
    "gcloud dataproc jobs submit spark \\\n",
    "  --cluster=[CLUSTER_NAME] \\\n",
    "  --region=[REGION] \\\n",
    "  --class=[MAIN_CLASS] \\\n",
    "  --jars=[JAR_PATH] \\\n",
    "  -- [ARGUMENTS]"
   ]
  },
  {
   "cell_type": "code",
   "execution_count": null,
   "id": "e1368f50",
   "metadata": {
    "vscode": {
     "languageId": "plaintext"
    }
   },
   "outputs": [],
   "source": [
    "gcloud dataproc jobs submit pyspark \\\n",
    "  gs://[BUCKET]/[SCRIPT].py \\\n",
    "  --cluster=[CLUSTER_NAME] \\\n",
    "  --region=[REGION] \\\n",
    "  -- [SCRIPT_ARGS]"
   ]
  },
  {
   "cell_type": "markdown",
   "id": "f2780f73",
   "metadata": {},
   "source": [
    "## Menghapus Cluster"
   ]
  },
  {
   "cell_type": "code",
   "execution_count": null,
   "id": "13cc7df7",
   "metadata": {
    "vscode": {
     "languageId": "plaintext"
    }
   },
   "outputs": [],
   "source": [
    "gcloud dataproc clusters delete [CLUSTER_NAME] \\\n",
    "  --region=[REGION]"
   ]
  },
  {
   "cell_type": "markdown",
   "id": "0b37c88e",
   "metadata": {},
   "source": [
    "## Melihat Daftar Cluster"
   ]
  },
  {
   "cell_type": "code",
   "execution_count": null,
   "id": "38d4a69f",
   "metadata": {
    "vscode": {
     "languageId": "plaintext"
    }
   },
   "outputs": [],
   "source": [
    "gcloud dataproc clusters list --region=[REGION]"
   ]
  },
  {
   "cell_type": "markdown",
   "id": "a5e1b213",
   "metadata": {},
   "source": [
    "## Melihat Detail Cluster"
   ]
  },
  {
   "cell_type": "code",
   "execution_count": null,
   "id": "6754b8ba",
   "metadata": {
    "vscode": {
     "languageId": "plaintext"
    }
   },
   "outputs": [],
   "source": [
    "gcloud dataproc clusters describe [CLUSTER_NAME] \\\n",
    "  --region=[REGION]"
   ]
  },
  {
   "cell_type": "markdown",
   "id": "12c0761b",
   "metadata": {},
   "source": [
    "## Auto-scaling Policy"
   ]
  },
  {
   "cell_type": "markdown",
   "id": "2515688e",
   "metadata": {},
   "source": [
    "gcloud dataproc autoscaling-policies import my-policy \\\n",
    "  --region=us-central1 \\\n",
    "  --source=policy.yaml"
   ]
  },
  {
   "cell_type": "code",
   "execution_count": null,
   "id": "b4f439a6",
   "metadata": {
    "vscode": {
     "languageId": "plaintext"
    }
   },
   "outputs": [],
   "source": [
    "basicAlgorithm:\n",
    "  yarnConfig:\n",
    "    scaleUpFactor: 0.5\n",
    "    scaleDownFactor: 1.0\n",
    "    gracefulDecommissionTimeout: 600s\n",
    "workerConfig:\n",
    "  minInstances: 2\n",
    "  maxInstances: 100"
   ]
  },
  {
   "cell_type": "code",
   "execution_count": null,
   "id": "643529fc",
   "metadata": {
    "vscode": {
     "languageId": "plaintext"
    }
   },
   "outputs": [],
   "source": [
    "gcloud dataproc clusters create my-cluster \\\n",
    "  --region=us-central1 \\\n",
    "  --autoscaling-policy=my-policy"
   ]
  }
 ],
 "metadata": {
  "language_info": {
   "name": "python"
  }
 },
 "nbformat": 4,
 "nbformat_minor": 5
}
