{
 "cells": [
  {
   "cell_type": "markdown",
   "id": "07625dde",
   "metadata": {},
   "source": [
    "# GKE"
   ]
  },
  {
   "cell_type": "markdown",
   "id": "cb704bfd",
   "metadata": {},
   "source": [
    "## Melihat Daftar Cluster"
   ]
  },
  {
   "cell_type": "code",
   "execution_count": null,
   "id": "0b26a13f",
   "metadata": {
    "vscode": {
     "languageId": "plaintext"
    }
   },
   "outputs": [],
   "source": [
    "gcloud container clusters list"
   ]
  },
  {
   "cell_type": "markdown",
   "id": "cde1a35a",
   "metadata": {},
   "source": [
    "## Melihat Detail Cluster"
   ]
  },
  {
   "cell_type": "code",
   "execution_count": null,
   "id": "ea2bec51",
   "metadata": {
    "vscode": {
     "languageId": "plaintext"
    }
   },
   "outputs": [],
   "source": [
    "gcloud container clusters describe [CLUSTER_NAME] --zone [ZONE]"
   ]
  },
  {
   "cell_type": "markdown",
   "id": "52275426",
   "metadata": {},
   "source": [
    "## Membuat Cluster"
   ]
  },
  {
   "cell_type": "code",
   "execution_count": null,
   "id": "071eecd8",
   "metadata": {
    "vscode": {
     "languageId": "plaintext"
    }
   },
   "outputs": [],
   "source": [
    "gcloud container clusters create [CLUSTER_NAME] \\\n",
    "--zone [ZONE] \\\n",
    "--num-nodes [NUMBER] \\\n",
    "--min-nodes [NUMBER] \\\n",
    "--max-nodes [NUMBER] \\\n",
    "--enable-autoscaling \\"
   ]
  },
  {
   "cell_type": "markdown",
   "id": "e8c897f3",
   "metadata": {},
   "source": [
    "## Menghapus Cluster"
   ]
  },
  {
   "cell_type": "code",
   "execution_count": null,
   "id": "dc189a8e",
   "metadata": {
    "vscode": {
     "languageId": "plaintext"
    }
   },
   "outputs": [],
   "source": [
    "gcloud container clusters delete [CLUSTER_NAME] --zone [ZONE]"
   ]
  },
  {
   "cell_type": "markdown",
   "id": "d3a4465b",
   "metadata": {},
   "source": [
    "## Mendapatkan Kredensial Untuk Mengakses Cluster"
   ]
  },
  {
   "cell_type": "code",
   "execution_count": null,
   "id": "8cd2cb16",
   "metadata": {
    "vscode": {
     "languageId": "plaintext"
    }
   },
   "outputs": [],
   "source": [
    "gcloud container clusters get-credentials [CLUSTER_NAME] --zone [ZONE]"
   ]
  },
  {
   "cell_type": "markdown",
   "id": "09587e6f",
   "metadata": {},
   "source": [
    "## Melihat Pod"
   ]
  },
  {
   "cell_type": "code",
   "execution_count": null,
   "id": "452f4d36",
   "metadata": {
    "vscode": {
     "languageId": "plaintext"
    }
   },
   "outputs": [],
   "source": [
    "kubectl get pods"
   ]
  },
  {
   "cell_type": "markdown",
   "id": "2040b0df",
   "metadata": {},
   "source": [
    "## Melihat Service"
   ]
  },
  {
   "cell_type": "code",
   "execution_count": null,
   "id": "161e1ce6",
   "metadata": {
    "vscode": {
     "languageId": "plaintext"
    }
   },
   "outputs": [],
   "source": [
    "kubectl get services"
   ]
  },
  {
   "cell_type": "markdown",
   "id": "fc49e612",
   "metadata": {},
   "source": [
    "## Membuat Deployment"
   ]
  },
  {
   "cell_type": "code",
   "execution_count": null,
   "id": "4bc504d7",
   "metadata": {
    "vscode": {
     "languageId": "plaintext"
    }
   },
   "outputs": [],
   "source": [
    "kubectl create deployment [DEPLOYMENT_NAME] \\\n",
    "--image=[IMAGE]"
   ]
  },
  {
   "cell_type": "markdown",
   "id": "7fc216fc",
   "metadata": {},
   "source": [
    "## Expose Deployment"
   ]
  },
  {
   "cell_type": "code",
   "execution_count": null,
   "id": "4b9ecdf6",
   "metadata": {
    "vscode": {
     "languageId": "plaintext"
    }
   },
   "outputs": [],
   "source": [
    "kubectl expose deployment [DEPLOYMENT_NAME] \\\n",
    "  --type=LoadBalancer \\\n",
    "  --port=80 \\\n",
    "  --target-port=5000"
   ]
  },
  {
   "cell_type": "markdown",
   "id": "6255a4c3",
   "metadata": {},
   "source": [
    "## Step\n",
    "\n",
    "- Containize your app\n",
    "- Build & Push the container to Artifact Registry\n",
    "- Create GKE Deployment\n",
    "- Expose GKE Deployment\n",
    "- Check Service"
   ]
  }
 ],
 "metadata": {
  "language_info": {
   "name": "python"
  }
 },
 "nbformat": 4,
 "nbformat_minor": 5
}
