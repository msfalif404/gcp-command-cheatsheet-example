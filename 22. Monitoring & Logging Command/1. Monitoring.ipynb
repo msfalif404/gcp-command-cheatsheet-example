{
 "cells": [
  {
   "cell_type": "markdown",
   "id": "050238e9",
   "metadata": {},
   "source": [
    "# Monitoring"
   ]
  },
  {
   "cell_type": "markdown",
   "id": "460cf7eb",
   "metadata": {},
   "source": [
    "| Fitur              | Command                                          |\n",
    "| ------------------ | ------------------------------------------------ |\n",
    "| Metrik             | `gcloud monitoring metrics list`                 |\n",
    "| Dashboard          | `gcloud monitoring dashboards [list/create]`     |\n",
    "| Uptime Check       | `gcloud monitoring uptime-checks [list/create]`  |\n",
    "| Alerting           | `gcloud monitoring alert-policies [list/create]` |\n",
    "| Channel Notifikasi | `gcloud monitoring channels [list/create]`       |"
   ]
  }
 ],
 "metadata": {
  "language_info": {
   "name": "python"
  }
 },
 "nbformat": 4,
 "nbformat_minor": 5
}
