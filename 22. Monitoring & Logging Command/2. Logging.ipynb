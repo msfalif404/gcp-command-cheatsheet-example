{
 "cells": [
  {
   "cell_type": "markdown",
   "id": "54019ecc",
   "metadata": {},
   "source": [
    "# Logging"
   ]
  },
  {
   "cell_type": "markdown",
   "id": "03b53301",
   "metadata": {},
   "source": [
    "## Menampilkan Log Terbaru"
   ]
  },
  {
   "cell_type": "code",
   "execution_count": null,
   "id": "c351bd74",
   "metadata": {
    "vscode": {
     "languageId": "plaintext"
    }
   },
   "outputs": [],
   "source": [
    "gcloud logging read \"resource.type=gce_instance\" --limit=10 --format=json"
   ]
  },
  {
   "cell_type": "code",
   "execution_count": null,
   "id": "367a77dc",
   "metadata": {
    "vscode": {
     "languageId": "plaintext"
    }
   },
   "outputs": [],
   "source": [
    "| Resource Type          | Deskripsi                                |\n",
    "| ---------------------- | ---------------------------------------- |\n",
    "| `gce_instance`         | VM di Compute Engine                     |\n",
    "| `k8s_container`        | Container di GKE                         |\n",
    "| `cloud_function`       | Google Cloud Function                    |\n",
    "| `cloud_run_revision`   | Instance Cloud Run                       |\n",
    "| `gae_app`              | App Engine                               |\n",
    "| `global`               | Log umum yang tidak spesifik ke resource |\n",
    "| `project`              | Log tingkat proyek (IAM, billing, dsb)   |\n",
    "| `cloudsql_database`    | Cloud SQL (MySQL, PostgreSQL)            |\n",
    "| `pubsub_topic`         | Pub/Sub Topic                            |\n",
    "| `bigquery_dataset`     | BigQuery Dataset                         |\n",
    "| `cloud_storage_bucket` | Bucket di Cloud Storage                  |\n",
    "| `dns_query`            | Permintaan DNS                           |\n",
    "| `http_load_balancer`   | Traffic dari Load Balancer               |\n",
    "| `dataflow_step`        | Job atau step dari Dataflow              |\n",
    "| `composer_environment` | Cloud Composer                           |\n",
    "| `vertex_ml_job`        | Job ML dari Vertex AI                    |\n"
   ]
  },
  {
   "cell_type": "markdown",
   "id": "03895133",
   "metadata": {},
   "source": [
    "## Menampilan Log Dengan Waktu Tertentu"
   ]
  },
  {
   "cell_type": "code",
   "execution_count": null,
   "id": "add83f5d",
   "metadata": {
    "vscode": {
     "languageId": "plaintext"
    }
   },
   "outputs": [],
   "source": [
    "gcloud logging read \"timestamp>=\\\"2024-05-01T00:00:00Z\\\"\" --limit=5\n",
    "\n",
    "# Filter waktu pakai format ISO 8601 (YYYY-MM-DDTHH:MM:SSZ)."
   ]
  },
  {
   "cell_type": "markdown",
   "id": "6baadfea",
   "metadata": {},
   "source": [
    "## Melihat Sink"
   ]
  },
  {
   "cell_type": "code",
   "execution_count": null,
   "id": "9ea4951e",
   "metadata": {
    "vscode": {
     "languageId": "plaintext"
    }
   },
   "outputs": [],
   "source": [
    "gcloud logging sinks list"
   ]
  },
  {
   "cell_type": "markdown",
   "id": "f16c7c8d",
   "metadata": {},
   "source": [
    "## Membuat Sink"
   ]
  },
  {
   "cell_type": "code",
   "execution_count": null,
   "id": "2d40b72a",
   "metadata": {
    "vscode": {
     "languageId": "plaintext"
    }
   },
   "outputs": [],
   "source": [
    "gcloud logging sinks create my-sink storage.googleapis.com/my-log-bucket \\\n",
    "  --log-filter=\"resource.type=gce_instance AND severity>=ERROR\""
   ]
  },
  {
   "cell_type": "code",
   "execution_count": null,
   "id": "817b45e2",
   "metadata": {
    "vscode": {
     "languageId": "plaintext"
    }
   },
   "outputs": [],
   "source": [
    "📌 Tujuan sink bisa berupa:\n",
    "\n",
    "storage.googleapis.com/[BUCKET_NAME]\n",
    "\n",
    "bigquery.googleapis.com/projects/PROJECT_ID/datasets/DATASET_ID\n",
    "\n",
    "pubsub.googleapis.com/projects/PROJECT_ID/topics/TOPIC_ID"
   ]
  },
  {
   "cell_type": "markdown",
   "id": "301a4ea4",
   "metadata": {},
   "source": [
    "## Menghapus Sink"
   ]
  },
  {
   "cell_type": "code",
   "execution_count": null,
   "id": "bd2f70ba",
   "metadata": {
    "vscode": {
     "languageId": "plaintext"
    }
   },
   "outputs": [],
   "source": [
    "gcloud logging sinks delete my-sink"
   ]
  },
  {
   "cell_type": "markdown",
   "id": "1ab41c62",
   "metadata": {},
   "source": [
    "## Membuat Log Bucket"
   ]
  },
  {
   "cell_type": "code",
   "execution_count": null,
   "id": "0ffb5589",
   "metadata": {
    "vscode": {
     "languageId": "plaintext"
    }
   },
   "outputs": [],
   "source": [
    "gcloud logging buckets create my-bucket \\\n",
    "  --location=global \\\n",
    "  --retention-days=30"
   ]
  },
  {
   "cell_type": "markdown",
   "id": "6789b737",
   "metadata": {},
   "source": [
    "## Membuat Log View"
   ]
  },
  {
   "cell_type": "code",
   "execution_count": null,
   "id": "e7616ff2",
   "metadata": {
    "vscode": {
     "languageId": "plaintext"
    }
   },
   "outputs": [],
   "source": [
    "gcloud logging views create my-view \\\n",
    "  --bucket=my-bucket \\\n",
    "  --location=global \\\n",
    "  --filter=\"resource.type=k8s_container\""
   ]
  },
  {
   "cell_type": "markdown",
   "id": "0cf183fc",
   "metadata": {},
   "source": [
    "## Menulis Log (Manual)"
   ]
  },
  {
   "cell_type": "code",
   "execution_count": null,
   "id": "f5f6e06c",
   "metadata": {
    "vscode": {
     "languageId": "plaintext"
    }
   },
   "outputs": [],
   "source": [
    "gcloud logging write my-log \"Halo ini pesan log\" --severity=INFO\n",
    "\n",
    "# Level severity (DEFAULT, DEBUG, INFO, NOTICE, WARNING, ERROR, CRITICAL, ALERT, EMERGENCY)"
   ]
  },
  {
   "cell_type": "markdown",
   "id": "030919fe",
   "metadata": {},
   "source": [
    "## Studi Kasus"
   ]
  },
  {
   "cell_type": "code",
   "execution_count": null,
   "id": "3fe17319",
   "metadata": {
    "vscode": {
     "languageId": "plaintext"
    }
   },
   "outputs": [],
   "source": [
    "gcloud logging read 'resource.type=\"gce_instance\" AND severity>=ERROR' --limit=10 --format=\"table(timestamp, severity, logName)\"\n",
    "\n",
    "gcloud logging buckets create error-bucket --location=global --retention-days=7\n",
    "\n",
    "gcloud logging sinks create error-sink storage.googleapis.com/error-bucket \\\n",
    "  --log-filter='resource.type=\"gce_instance\" AND severity>=ERROR'\n",
    "\n",
    "gcloud logging views create error-view \\\n",
    "  --bucket=error-bucket \\\n",
    "  --location=global \\\n",
    "  --filter='severity>=ERROR'"
   ]
  }
 ],
 "metadata": {
  "language_info": {
   "name": "python"
  }
 },
 "nbformat": 4,
 "nbformat_minor": 5
}
