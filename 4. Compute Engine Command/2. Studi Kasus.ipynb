{
 "cells": [
  {
   "cell_type": "markdown",
   "id": "133efe1a",
   "metadata": {},
   "source": [
    "# Studi Kasus (Incoming)"
   ]
  },
  {
   "cell_type": "markdown",
   "id": "bd68b726",
   "metadata": {},
   "source": [
    "## Usefull Resource:\n",
    "\n",
    "- https://chatgpt.com/c/6831cf61-8a80-8005-9953-413ef49cb75e"
   ]
  }
 ],
 "metadata": {
  "language_info": {
   "name": "python"
  }
 },
 "nbformat": 4,
 "nbformat_minor": 5
}
