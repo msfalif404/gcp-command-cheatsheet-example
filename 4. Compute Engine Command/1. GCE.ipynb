{
 "cells": [
  {
   "cell_type": "markdown",
   "id": "223af803",
   "metadata": {},
   "source": [
    "# Google Compute Engine"
   ]
  },
  {
   "cell_type": "markdown",
   "id": "7535248f",
   "metadata": {},
   "source": [
    "## Melihat Daftar Region"
   ]
  },
  {
   "cell_type": "code",
   "execution_count": null,
   "id": "75fa0eef",
   "metadata": {
    "vscode": {
     "languageId": "plaintext"
    }
   },
   "outputs": [],
   "source": [
    "gcloud compute regions list"
   ]
  },
  {
   "cell_type": "markdown",
   "id": "ff42d794",
   "metadata": {},
   "source": [
    "## Melihat Daftar Zone"
   ]
  },
  {
   "cell_type": "markdown",
   "id": "d97577b7",
   "metadata": {},
   "source": [
    "gcloud compute zones list"
   ]
  },
  {
   "cell_type": "markdown",
   "id": "5f4577d6",
   "metadata": {},
   "source": [
    "## Melihat Daftar Machine"
   ]
  },
  {
   "cell_type": "code",
   "execution_count": null,
   "id": "3ef4fdd0",
   "metadata": {
    "vscode": {
     "languageId": "plaintext"
    }
   },
   "outputs": [],
   "source": [
    "gcloud compute machine-types list"
   ]
  },
  {
   "cell_type": "markdown",
   "id": "c6260da9",
   "metadata": {},
   "source": [
    "## Melihat Daftar Image"
   ]
  },
  {
   "cell_type": "code",
   "execution_count": null,
   "id": "dfb3cdfb",
   "metadata": {
    "vscode": {
     "languageId": "plaintext"
    }
   },
   "outputs": [],
   "source": [
    "gcloud compute images list"
   ]
  },
  {
   "cell_type": "markdown",
   "id": "f3b83bbb",
   "metadata": {},
   "source": [
    "## Membuat VM"
   ]
  },
  {
   "cell_type": "code",
   "execution_count": null,
   "id": "59cd0193",
   "metadata": {
    "vscode": {
     "languageId": "plaintext"
    }
   },
   "outputs": [],
   "source": [
    "gcloud compute instances create [INSTANCE_NAME] \\\n",
    "--zone=[ZONE] \\\n",
    "--machine-type=[MACHINE_TYPE] \\\n",
    "--image-family=[IMAGE_FAMILY] \\\n",
    "--image-project=[IMAGE_PROJECT]"
   ]
  },
  {
   "cell_type": "code",
   "execution_count": null,
   "id": "e90fae6d",
   "metadata": {
    "vscode": {
     "languageId": "plaintext"
    }
   },
   "outputs": [],
   "source": [
    "gcloud compute instances create my-vm \\\n",
    "  --zone=us-central1-a \\\n",
    "  --machine-type=e2-micro \\\n",
    "  --image-family=debian-11 \\\n",
    "  --image-project=debian-cloud"
   ]
  },
  {
   "cell_type": "markdown",
   "id": "febe4b26",
   "metadata": {},
   "source": [
    "## Melihat Daftar VM"
   ]
  },
  {
   "cell_type": "code",
   "execution_count": null,
   "id": "e8a08901",
   "metadata": {
    "vscode": {
     "languageId": "plaintext"
    }
   },
   "outputs": [],
   "source": [
    "gcloud compute instances list"
   ]
  },
  {
   "cell_type": "markdown",
   "id": "55743145",
   "metadata": {},
   "source": [
    "## Melihat Detail VM Tertentu"
   ]
  },
  {
   "cell_type": "code",
   "execution_count": null,
   "id": "c5e8378a",
   "metadata": {
    "vscode": {
     "languageId": "plaintext"
    }
   },
   "outputs": [],
   "source": [
    "gcloud compute instances describe [INSTANCE_NAME] \\\n",
    "--zone=[ZONE]"
   ]
  },
  {
   "cell_type": "markdown",
   "id": "97ec2795",
   "metadata": {},
   "source": [
    "## Menghapus VM"
   ]
  },
  {
   "cell_type": "code",
   "execution_count": null,
   "id": "93436921",
   "metadata": {
    "vscode": {
     "languageId": "plaintext"
    }
   },
   "outputs": [],
   "source": [
    "gcloud compute instances delete [INSTANCE_NAME] \\\n",
    "--zone=[ZONE]"
   ]
  },
  {
   "cell_type": "markdown",
   "id": "4f51153b",
   "metadata": {},
   "source": [
    "## SSH ke Dalam VM"
   ]
  },
  {
   "cell_type": "code",
   "execution_count": null,
   "id": "7b37db95",
   "metadata": {
    "vscode": {
     "languageId": "plaintext"
    }
   },
   "outputs": [],
   "source": [
    "gcloud compute ssh [INSTANCE_NAME] \\\n",
    "--zone=[ZONE]"
   ]
  },
  {
   "cell_type": "markdown",
   "id": "9dfea0b5",
   "metadata": {},
   "source": [
    "## Menyalakan / Mematikan VM"
   ]
  },
  {
   "cell_type": "code",
   "execution_count": null,
   "id": "ac79f922",
   "metadata": {
    "vscode": {
     "languageId": "plaintext"
    }
   },
   "outputs": [],
   "source": [
    "gcloud compute instances start [INSTANCE_NAME] \\\n",
    "--zone=[ZONE]"
   ]
  },
  {
   "cell_type": "code",
   "execution_count": null,
   "id": "be109e47",
   "metadata": {
    "vscode": {
     "languageId": "plaintext"
    }
   },
   "outputs": [],
   "source": [
    "gcloud compute instances stop [INSTANCE_NAME] \\\n",
    "--zone=[ZONE]"
   ]
  },
  {
   "cell_type": "markdown",
   "id": "eb56baae",
   "metadata": {},
   "source": [
    "## Membuat  Firewall Rule"
   ]
  },
  {
   "cell_type": "code",
   "execution_count": null,
   "id": "52df5825",
   "metadata": {
    "vscode": {
     "languageId": "plaintext"
    }
   },
   "outputs": [],
   "source": [
    "gcloud compute firewall-rules create [FIREWALL_RULE_NAME] \\\n",
    "--allow=tcp:80 \\\n",
    "--target-tags=http-server \\\n",
    "--description=\"Allow Port 80 Access To HTTP Server\" \\\n",
    "--direction=INGRESS"
   ]
  },
  {
   "cell_type": "markdown",
   "id": "06241f65",
   "metadata": {},
   "source": [
    "## Menambahkan Network Tags"
   ]
  },
  {
   "cell_type": "code",
   "execution_count": null,
   "id": "af7048f5",
   "metadata": {
    "vscode": {
     "languageId": "plaintext"
    }
   },
   "outputs": [],
   "source": [
    "--tags=http-server,https-server\n",
    "\n",
    "--tags=[NETWORK_TAG1],[NETWORK_TAG2]......"
   ]
  },
  {
   "cell_type": "markdown",
   "id": "73ec5bcf",
   "metadata": {},
   "source": [
    "## Menentukan Boot Disk"
   ]
  },
  {
   "cell_type": "code",
   "execution_count": null,
   "id": "a0571cbf",
   "metadata": {
    "vscode": {
     "languageId": "plaintext"
    }
   },
   "outputs": [],
   "source": [
    "--boot-disk-size=10GB \\\n",
    "--boot-disk-type=pd-standard \\\n",
    "--boot-disk-device-name=DISK_NAME"
   ]
  },
  {
   "cell_type": "markdown",
   "id": "05bbca95",
   "metadata": {},
   "source": [
    "## Menambahkan External IP"
   ]
  },
  {
   "cell_type": "code",
   "execution_count": null,
   "id": "3f2216df",
   "metadata": {
    "vscode": {
     "languageId": "plaintext"
    }
   },
   "outputs": [],
   "source": [
    "--address=[IP_ADDRESS]"
   ]
  },
  {
   "cell_type": "markdown",
   "id": "0f24eebf",
   "metadata": {},
   "source": [
    "## Menambahkan Startup Script"
   ]
  },
  {
   "cell_type": "code",
   "execution_count": null,
   "id": "2ec705ae",
   "metadata": {
    "vscode": {
     "languageId": "plaintext"
    }
   },
   "outputs": [],
   "source": [
    "--metadata=startup-script='#!/bin/bash\n",
    "apt-get update && apt-get install -y apache2'"
   ]
  },
  {
   "cell_type": "markdown",
   "id": "d5833709",
   "metadata": {},
   "source": [
    "## Menentkan VPC dan Subnet"
   ]
  },
  {
   "cell_type": "code",
   "execution_count": null,
   "id": "33adfa6c",
   "metadata": {
    "vscode": {
     "languageId": "plaintext"
    }
   },
   "outputs": [],
   "source": [
    "--network=default \\\n",
    "--subnet=default"
   ]
  },
  {
   "cell_type": "markdown",
   "id": "14ab9b18",
   "metadata": {},
   "source": [
    "## Membuat VM dengan Disk Khusus"
   ]
  },
  {
   "cell_type": "code",
   "execution_count": null,
   "id": "25387d34",
   "metadata": {
    "vscode": {
     "languageId": "plaintext"
    }
   },
   "outputs": [],
   "source": [
    "gcloud compute disks create [DISK_NAME] \\\n",
    "--size=20GB \\\n",
    "--zone=[ZONE]\n",
    "\n",
    "gcloud compute instances attach-disk [INSTANCE_NAME] \\\n",
    "--disk=[DISK_NAME] \\\n",
    "--zone=[ZONE]"
   ]
  },
  {
   "cell_type": "markdown",
   "id": "74d91d07",
   "metadata": {},
   "source": [
    "## Membuat Snapshot dari Disk VM"
   ]
  },
  {
   "cell_type": "code",
   "execution_count": null,
   "id": "75fb6389",
   "metadata": {
    "vscode": {
     "languageId": "plaintext"
    }
   },
   "outputs": [],
   "source": [
    "gcloud compute disks snapshot [DISK_NAME] \\\n",
    "--snapshot-names=[SNAPSHOT_NAME] \\\n",
    "--zone=[ZONE]"
   ]
  },
  {
   "cell_type": "markdown",
   "id": "e65a4783",
   "metadata": {},
   "source": [
    "## Membuat Disk Baru dari Snapshot"
   ]
  },
  {
   "cell_type": "code",
   "execution_count": null,
   "id": "06add371",
   "metadata": {
    "vscode": {
     "languageId": "plaintext"
    }
   },
   "outputs": [],
   "source": [
    "gcloud compute disks create [NEW_DISK_NAME] \\\n",
    "--source-snapshot=[SNAPSHOT_NAME] \\\n",
    "--zone=[ZONE]"
   ]
  },
  {
   "cell_type": "markdown",
   "id": "b69e4675",
   "metadata": {},
   "source": [
    "## Membuat VM Baru Dari Disk Snapshot"
   ]
  },
  {
   "cell_type": "code",
   "execution_count": null,
   "id": "00c0498c",
   "metadata": {
    "vscode": {
     "languageId": "plaintext"
    }
   },
   "outputs": [],
   "source": [
    "gcloud compute instances create [VM_NAME] \\\n",
    "--zone=[ZONE] \\\n",
    "--disk=name=[DISK_NAME],boot=yes"
   ]
  }
 ],
 "metadata": {
  "language_info": {
   "name": "python"
  }
 },
 "nbformat": 4,
 "nbformat_minor": 5
}
