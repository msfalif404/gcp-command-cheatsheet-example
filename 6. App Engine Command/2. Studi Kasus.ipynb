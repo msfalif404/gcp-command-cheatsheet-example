{
 "cells": [
  {
   "cell_type": "markdown",
   "id": "133efe1a",
   "metadata": {},
   "source": [
    "# Studi Kasus (Incoming)"
   ]
  },
  {
   "cell_type": "markdown",
   "id": "bd68b726",
   "metadata": {},
   "source": [
    "## Usefull Resource:\n",
    "\n",
    "- https://chatgpt.com/c/6831e1e6-7ec4-800d-b0cf-10e19201d527"
   ]
  }
 ],
 "metadata": {
  "language_info": {
   "name": "python"
  }
 },
 "nbformat": 4,
 "nbformat_minor": 5
}
