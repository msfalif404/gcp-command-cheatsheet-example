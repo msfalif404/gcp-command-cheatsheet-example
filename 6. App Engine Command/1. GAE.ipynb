{
 "cells": [
  {
   "cell_type": "markdown",
   "id": "f011b500",
   "metadata": {},
   "source": [
    "# GAE"
   ]
  },
  {
   "cell_type": "markdown",
   "id": "b16dd02f",
   "metadata": {},
   "source": [
    "## Membuat App Engine"
   ]
  },
  {
   "cell_type": "code",
   "execution_count": null,
   "id": "6c76cf1d",
   "metadata": {
    "vscode": {
     "languageId": "plaintext"
    }
   },
   "outputs": [],
   "source": [
    "gcloud app create --region=[REGION]"
   ]
  },
  {
   "cell_type": "markdown",
   "id": "34d3ce1d",
   "metadata": {},
   "source": [
    "## Mendeploy App Engine"
   ]
  },
  {
   "cell_type": "code",
   "execution_count": null,
   "id": "1b3187ba",
   "metadata": {
    "vscode": {
     "languageId": "plaintext"
    }
   },
   "outputs": [],
   "source": [
    "gcloud app deploy --version=[VERSION]"
   ]
  },
  {
   "cell_type": "markdown",
   "id": "884d9ebd",
   "metadata": {},
   "source": [
    "## Membuka Aplikasi Yang Telah Dideploy"
   ]
  },
  {
   "cell_type": "code",
   "execution_count": null,
   "id": "d2e6be9a",
   "metadata": {
    "vscode": {
     "languageId": "plaintext"
    }
   },
   "outputs": [],
   "source": [
    "gcloud app browse"
   ]
  },
  {
   "cell_type": "markdown",
   "id": "0fa2dfa1",
   "metadata": {},
   "source": [
    "## Melihat Semua Service Dalam App Engine"
   ]
  },
  {
   "cell_type": "code",
   "execution_count": null,
   "id": "90d8a313",
   "metadata": {
    "vscode": {
     "languageId": "plaintext"
    }
   },
   "outputs": [],
   "source": [
    "gcloud app services list"
   ]
  },
  {
   "cell_type": "markdown",
   "id": "4d9caccc",
   "metadata": {},
   "source": [
    "## Melihat Daftar Versi Aplikasi Yang Telah Dideploy"
   ]
  },
  {
   "cell_type": "code",
   "execution_count": null,
   "id": "53bdf8c6",
   "metadata": {
    "vscode": {
     "languageId": "plaintext"
    }
   },
   "outputs": [],
   "source": [
    "gcloud app versions list"
   ]
  },
  {
   "cell_type": "markdown",
   "id": "a9587bdc",
   "metadata": {},
   "source": [
    "## Melihat Informasi Dari Suatu Versi Aplikasi"
   ]
  },
  {
   "cell_type": "code",
   "execution_count": null,
   "id": "3f5a7ca3",
   "metadata": {
    "vscode": {
     "languageId": "plaintext"
    }
   },
   "outputs": [],
   "source": [
    "gcloud app versions describe [VERSION]"
   ]
  },
  {
   "cell_type": "markdown",
   "id": "d2589566",
   "metadata": {},
   "source": [
    "## Menghapus Versi Aplikasi Yang Tidak Aktif"
   ]
  },
  {
   "cell_type": "code",
   "execution_count": null,
   "id": "16764e66",
   "metadata": {
    "vscode": {
     "languageId": "plaintext"
    }
   },
   "outputs": [],
   "source": [
    "gcloud app versions delete [VERSION]"
   ]
  },
  {
   "cell_type": "markdown",
   "id": "c294d95e",
   "metadata": {},
   "source": [
    "## Melihat Semua Instance Yang Aktif"
   ]
  },
  {
   "cell_type": "code",
   "execution_count": null,
   "id": "fb43716d",
   "metadata": {
    "vscode": {
     "languageId": "plaintext"
    }
   },
   "outputs": [],
   "source": [
    "gcloud app services delete [SERVICE]"
   ]
  },
  {
   "cell_type": "markdown",
   "id": "73a2fa42",
   "metadata": {},
   "source": [
    "## Membaca Log"
   ]
  },
  {
   "cell_type": "code",
   "execution_count": null,
   "id": "b44bad78",
   "metadata": {
    "vscode": {
     "languageId": "plaintext"
    }
   },
   "outputs": [],
   "source": [
    "gclod app logs read"
   ]
  },
  {
   "cell_type": "markdown",
   "id": "fbb11571",
   "metadata": {},
   "source": [
    "## Membaca Log Real Time"
   ]
  },
  {
   "cell_type": "code",
   "execution_count": null,
   "id": "f24c8ce5",
   "metadata": {
    "vscode": {
     "languageId": "plaintext"
    }
   },
   "outputs": [],
   "source": [
    "gcloud app logs tail -s [SERVICE]"
   ]
  },
  {
   "cell_type": "markdown",
   "id": "88db561e",
   "metadata": {},
   "source": [
    "## Cara Split Trafic"
   ]
  },
  {
   "cell_type": "code",
   "execution_count": null,
   "id": "076584f4",
   "metadata": {
    "vscode": {
     "languageId": "plaintext"
    }
   },
   "outputs": [],
   "source": [
    "gcloud app services set-traffic [SERVICE] --splits [VERSION1]=[TRAFFIC],[VERSION2]=TRAFFIC"
   ]
  },
  {
   "cell_type": "markdown",
   "id": "f2d7e9f0",
   "metadata": {},
   "source": [
    "## Cara Rollback"
   ]
  },
  {
   "cell_type": "code",
   "execution_count": null,
   "id": "e5cc473a",
   "metadata": {
    "vscode": {
     "languageId": "plaintext"
    }
   },
   "outputs": [],
   "source": [
    "gcloud app services set-traffic [SERVICE] --splits [VERSION]=[TRAFFIC]"
   ]
  }
 ],
 "metadata": {
  "language_info": {
   "name": "python"
  }
 },
 "nbformat": 4,
 "nbformat_minor": 5
}
