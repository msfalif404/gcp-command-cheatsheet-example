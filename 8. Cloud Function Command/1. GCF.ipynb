{
 "cells": [
  {
   "cell_type": "markdown",
   "id": "9409a54a",
   "metadata": {},
   "source": [
    "# GCF"
   ]
  },
  {
   "cell_type": "markdown",
   "id": "7635f2fa",
   "metadata": {},
   "source": [
    "## Melihat Daftar Function"
   ]
  },
  {
   "cell_type": "code",
   "execution_count": null,
   "id": "d15a55a5",
   "metadata": {
    "vscode": {
     "languageId": "plaintext"
    }
   },
   "outputs": [],
   "source": [
    "gcloud functions list"
   ]
  },
  {
   "cell_type": "markdown",
   "id": "f0a38873",
   "metadata": {},
   "source": [
    "## Mendeploy Function"
   ]
  },
  {
   "cell_type": "code",
   "execution_count": null,
   "id": "7bfc2731",
   "metadata": {
    "vscode": {
     "languageId": "plaintext"
    }
   },
   "outputs": [],
   "source": [
    "gcloud functions deploy [FUNCTION_NAME] \\\n",
    "--runtime=[RUNTIME] \\\n",
    "--trigger-[TYPE]=[TRIGGER_VALUE] \\\n",
    "--entry-point=[FUNCTION_ENTRY_POINT]\n",
    "--region=[REGION] \\\n",
    "--memory=[AMOUNT] \\\n",
    "--timeout=[SECONDS] \\\n",
    "--max-instances=[N] \\\n",
    "--allow-unauthenticated"
   ]
  },
  {
   "cell_type": "code",
   "execution_count": null,
   "id": "af408d8a",
   "metadata": {
    "vscode": {
     "languageId": "plaintext"
    }
   },
   "outputs": [],
   "source": [
    "--trigger-http\n",
    "--trigger-topic\n",
    "--trigger-bucket"
   ]
  },
  {
   "cell_type": "markdown",
   "id": "99ebe533",
   "metadata": {},
   "source": [
    "## Melihat Informasi Detail Suatu Function"
   ]
  },
  {
   "cell_type": "code",
   "execution_count": null,
   "id": "c91abf9e",
   "metadata": {
    "vscode": {
     "languageId": "plaintext"
    }
   },
   "outputs": [],
   "source": [
    "gcloud functions describe [FUNCTION_NAME]"
   ]
  },
  {
   "cell_type": "markdown",
   "id": "5d871c3a",
   "metadata": {},
   "source": [
    "## Menghapus Function"
   ]
  },
  {
   "cell_type": "code",
   "execution_count": null,
   "id": "4ed4e752",
   "metadata": {
    "vscode": {
     "languageId": "plaintext"
    }
   },
   "outputs": [],
   "source": [
    "gcloud functions delete [FUNCTION_NAME]"
   ]
  }
 ],
 "metadata": {
  "language_info": {
   "name": "python"
  }
 },
 "nbformat": 4,
 "nbformat_minor": 5
}
