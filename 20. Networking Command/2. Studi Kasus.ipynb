{
 "cells": [
  {
   "cell_type": "markdown",
   "id": "133efe1a",
   "metadata": {},
   "source": [
    "# Studi Kasus (Incoming)"
   ]
  },
  {
   "cell_type": "code",
   "execution_count": null,
   "id": "e355387b",
   "metadata": {
    "vscode": {
     "languageId": "plaintext"
    }
   },
   "outputs": [],
   "source": [
    "# 1. Buat VPC\n",
    "gcloud compute networks create vpc-lab --subnet-mode=custom\n",
    "\n",
    "# 2. Buat subnet\n",
    "gcloud compute networks subnets create subnet-public \\\n",
    "  --network=vpc-lab --region=us-central1 --range=10.0.1.0/24\n",
    "\n",
    "gcloud compute networks subnets create subnet-private \\\n",
    "  --network=vpc-lab --region=us-central1 --range=10.0.2.0/24\n",
    "\n",
    "# 3. Buat firewall rule untuk SSH\n",
    "gcloud compute firewall-rules create allow-ssh-public \\\n",
    "  --network=vpc-lab --allow=tcp:22 \\\n",
    "  --source-ranges=0.0.0.0/0 --target-tags=ssh-public\n",
    "\n",
    "# 4. Buat VM\n",
    "gcloud compute instances create vm-public \\\n",
    "  --zone=us-central1-a \\\n",
    "  --subnet=subnet-public \\\n",
    "  --tags=ssh-public\n",
    "\n",
    "gcloud compute instances create vm-private \\\n",
    "  --zone=us-central1-a \\\n",
    "  --subnet=subnet-private \\\n",
    "  --no-address  # tanpa external IP"
   ]
  }
 ],
 "metadata": {
  "language_info": {
   "name": "python"
  }
 },
 "nbformat": 4,
 "nbformat_minor": 5
}
