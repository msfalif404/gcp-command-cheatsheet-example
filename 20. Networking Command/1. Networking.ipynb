{
 "cells": [
  {
   "cell_type": "markdown",
   "id": "b0f14433",
   "metadata": {},
   "source": [
    "# Networking"
   ]
  },
  {
   "cell_type": "markdown",
   "id": "ddfd953c",
   "metadata": {},
   "source": [
    "## Membuat VPC"
   ]
  },
  {
   "cell_type": "code",
   "execution_count": null,
   "id": "4716d38e",
   "metadata": {
    "vscode": {
     "languageId": "plaintext"
    }
   },
   "outputs": [],
   "source": [
    "gcloud compute networks create [NAMA_VPC] \\\n",
    "  --subnet-mode=custom | --subnet-mode=auto"
   ]
  },
  {
   "cell_type": "markdown",
   "id": "c0edf581",
   "metadata": {},
   "source": [
    "## Membuat Subnet"
   ]
  },
  {
   "cell_type": "code",
   "execution_count": null,
   "id": "95e77f16",
   "metadata": {
    "vscode": {
     "languageId": "plaintext"
    }
   },
   "outputs": [],
   "source": [
    "gcloud compute networks subnets create [NAMA_SUBNET] \\\n",
    "  --network=[NAMA_VPC] \\\n",
    "  --region=[REGION] \\\n",
    "  --range=[CIDR_RANGE]"
   ]
  },
  {
   "cell_type": "code",
   "execution_count": null,
   "id": "ded644e8",
   "metadata": {
    "vscode": {
     "languageId": "plaintext"
    }
   },
   "outputs": [],
   "source": [
    "gcloud compute networks subnets create subnet-a \\\n",
    "  --network=vpc-kampus \\\n",
    "  --region=us-central1 \\\n",
    "  --range=10.10.0.0/24"
   ]
  },
  {
   "cell_type": "markdown",
   "id": "c3c8895a",
   "metadata": {},
   "source": [
    "## Membuat Firewall"
   ]
  },
  {
   "cell_type": "markdown",
   "id": "e74a9c5c",
   "metadata": {},
   "source": [
    "gcloud compute firewall-rules create [NAMA_RULE] \\\n",
    "  --network=[NAMA_VPC] \\\n",
    "  --allow=[PROTOKOL:PORT] \\\n",
    "  --source-ranges=[IP_RANGE] \\\n",
    "  --direction=INGRESS \\\n",
    "  --priority=1000 \\\n",
    "  --target-tags=[TAG]"
   ]
  },
  {
   "cell_type": "code",
   "execution_count": null,
   "id": "8916bb74",
   "metadata": {
    "vscode": {
     "languageId": "plaintext"
    }
   },
   "outputs": [],
   "source": [
    "gcloud compute firewall-rules create allow-ssh \\\n",
    "  --network=vpc-kampus \\\n",
    "  --allow=tcp:22 \\\n",
    "  --source-ranges=0.0.0.0/0 \\\n",
    "  --direction=INGRESS \\\n",
    "  --priority=1000 \\\n",
    "  --target-tags=ssh-allowed"
   ]
  },
  {
   "cell_type": "markdown",
   "id": "7a95588e",
   "metadata": {},
   "source": [
    "## Routes"
   ]
  },
  {
   "cell_type": "code",
   "execution_count": null,
   "id": "61a12100",
   "metadata": {
    "vscode": {
     "languageId": "plaintext"
    }
   },
   "outputs": [],
   "source": [
    "gcloud compute routes create [NAMA_ROUTE] \\\n",
    "  --network=[NAMA_VPC] \\\n",
    "  --destination-range=[CIDR] \\\n",
    "  --next-hop-instance=[NAMA_VM] \\\n",
    "  --next-hop-instance-zone=[ZONE]"
   ]
  },
  {
   "cell_type": "markdown",
   "id": "0f228612",
   "metadata": {},
   "source": [
    "## Membuat Static External IP"
   ]
  },
  {
   "cell_type": "code",
   "execution_count": null,
   "id": "7d961b14",
   "metadata": {
    "vscode": {
     "languageId": "plaintext"
    }
   },
   "outputs": [],
   "source": [
    "gcloud compute addresses create [NAMA_IP] \\\n",
    "  --region=[REGION]"
   ]
  },
  {
   "cell_type": "code",
   "execution_count": null,
   "id": "a7e0f8a8",
   "metadata": {
    "vscode": {
     "languageId": "plaintext"
    }
   },
   "outputs": [],
   "source": [
    "gcloud compute addresses create my-external-ip \\\n",
    "  --region=us-central1"
   ]
  },
  {
   "cell_type": "markdown",
   "id": "2e2865bf",
   "metadata": {},
   "source": [
    "## Membuat Static Internal IP"
   ]
  },
  {
   "cell_type": "code",
   "execution_count": null,
   "id": "f21dae40",
   "metadata": {
    "vscode": {
     "languageId": "plaintext"
    }
   },
   "outputs": [],
   "source": [
    "gcloud compute addresses create [NAMA_IP] \\\n",
    "  --region=[REGION] \\\n",
    "  --subnet=[NAMA_SUBNET] \\\n",
    "  --addresses=[IP_ADDRESS] \\\n",
    "  --purpose=GCE_ENDPOINT"
   ]
  },
  {
   "cell_type": "markdown",
   "id": "024b47a7",
   "metadata": {},
   "source": [
    "## VPC Peering"
   ]
  },
  {
   "cell_type": "code",
   "execution_count": null,
   "id": "2b5f303c",
   "metadata": {
    "vscode": {
     "languageId": "plaintext"
    }
   },
   "outputs": [],
   "source": [
    "gcloud compute networks peerings create [PEERING_NAME] \\\n",
    "  --network=[NAMA_VPC_1] \\\n",
    "  --peer-network=[NAMA_VPC_2] \\\n",
    "  --auto-create-routes"
   ]
  },
  {
   "cell_type": "code",
   "execution_count": null,
   "id": "e500f8ba",
   "metadata": {
    "vscode": {
     "languageId": "plaintext"
    }
   },
   "outputs": [],
   "source": [
    "gcloud compute networks create vpc-a --subnet-mode=custom\n",
    "gcloud compute networks create vpc-b --subnet-mode=custom"
   ]
  },
  {
   "cell_type": "code",
   "execution_count": null,
   "id": "b449413f",
   "metadata": {
    "vscode": {
     "languageId": "plaintext"
    }
   },
   "outputs": [],
   "source": [
    "gcloud compute networks peerings create peering-a-to-b \\\n",
    "  --network=vpc-a \\\n",
    "  --peer-network=vpc-b \\\n",
    "  --auto-create-routes"
   ]
  },
  {
   "cell_type": "code",
   "execution_count": null,
   "id": "62e5b835",
   "metadata": {
    "vscode": {
     "languageId": "plaintext"
    }
   },
   "outputs": [],
   "source": [
    "gcloud compute networks peerings create peering-b-to-a \\\n",
    "  --network=vpc-b \\\n",
    "  --peer-network=vpc-a \\\n",
    "  --auto-create-routes"
   ]
  }
 ],
 "metadata": {
  "language_info": {
   "name": "python"
  }
 },
 "nbformat": 4,
 "nbformat_minor": 5
}
