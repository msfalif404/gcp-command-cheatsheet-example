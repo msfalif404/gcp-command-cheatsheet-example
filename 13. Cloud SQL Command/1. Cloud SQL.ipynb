{
 "cells": [
  {
   "cell_type": "markdown",
   "id": "d35fac75",
   "metadata": {},
   "source": [
    "# Cloud SQL"
   ]
  },
  {
   "cell_type": "markdown",
   "id": "232429c5",
   "metadata": {},
   "source": [
    "## Membuat Instances"
   ]
  },
  {
   "cell_type": "code",
   "execution_count": null,
   "id": "30880aa0",
   "metadata": {
    "vscode": {
     "languageId": "plaintext"
    }
   },
   "outputs": [],
   "source": [
    "gcloud sql instances create [INSTANCE_NAME] \\\n",
    "--database-version=MYSQL_8_0 \\\n",
    "--cpu=2\n",
    "--memory=7680MB \\\n",
    "--region=us-central1\n",
    "--availability-type=REGIONAL\n",
    "--storage-type=SSD|HDD\n",
    "--storage-size=XX\n",
    "--prompt-for-password"
   ]
  },
  {
   "cell_type": "markdown",
   "id": "d12566b2",
   "metadata": {},
   "source": [
    "## Membuat User"
   ]
  },
  {
   "cell_type": "code",
   "execution_count": null,
   "id": "288b760f",
   "metadata": {
    "vscode": {
     "languageId": "plaintext"
    }
   },
   "outputs": [],
   "source": [
    "gcloud sql users create [USERNAME] \\\n",
    "    --instance=[INSTANCE_NAME] \\\n",
    "    --password=[PASSWORD]"
   ]
  },
  {
   "cell_type": "markdown",
   "id": "ea519ce4",
   "metadata": {},
   "source": [
    "## Melihat Daftar User"
   ]
  },
  {
   "cell_type": "code",
   "execution_count": null,
   "id": "11f45d80",
   "metadata": {
    "vscode": {
     "languageId": "plaintext"
    }
   },
   "outputs": [],
   "source": [
    "gcloud sql users list --instance=[INSTANCE_NAME]"
   ]
  },
  {
   "cell_type": "markdown",
   "id": "20ec2268",
   "metadata": {},
   "source": [
    "## Membuat Database Melalui Instances"
   ]
  },
  {
   "cell_type": "code",
   "execution_count": null,
   "id": "86e0093b",
   "metadata": {
    "vscode": {
     "languageId": "plaintext"
    }
   },
   "outputs": [],
   "source": [
    "gcloud sql databases create [DB_NAME] \\\n",
    "    --instance=[INSTANCE_NAME]"
   ]
  },
  {
   "cell_type": "markdown",
   "id": "d5bf26ab",
   "metadata": {},
   "source": [
    "## Melihat Daftar Database Melalui Instances"
   ]
  },
  {
   "cell_type": "code",
   "execution_count": null,
   "id": "00621d89",
   "metadata": {
    "vscode": {
     "languageId": "plaintext"
    }
   },
   "outputs": [],
   "source": [
    "gcloud sql databases list --instance=[INSTANCE_NAME]"
   ]
  },
  {
   "cell_type": "markdown",
   "id": "fd7c2e34",
   "metadata": {},
   "source": [
    "## Mengatur IP Publik agar Bisa Terhubung dari Luar"
   ]
  },
  {
   "cell_type": "code",
   "execution_count": null,
   "id": "94acaaa6",
   "metadata": {
    "vscode": {
     "languageId": "plaintext"
    }
   },
   "outputs": [],
   "source": [
    "gcloud sql instances patch [INSTANCE_NAME] \\\n",
    "    --authorized-networks=[YOUR_PUBLIC_IP]/32"
   ]
  },
  {
   "cell_type": "markdown",
   "id": "e06f91d1",
   "metadata": {},
   "source": [
    "## Export Data"
   ]
  },
  {
   "cell_type": "code",
   "execution_count": null,
   "id": "c7b70eb1",
   "metadata": {
    "vscode": {
     "languageId": "plaintext"
    }
   },
   "outputs": [],
   "source": [
    "gcloud sql export sql [INSTANCE_NAME] \\\n",
    "    gs://[BUCKET_NAME]/[EXPORT_FILE].sql.gz \\\n",
    "    --database=[DB_NAME]"
   ]
  },
  {
   "cell_type": "markdown",
   "id": "40488318",
   "metadata": {},
   "source": [
    "## Import Data"
   ]
  },
  {
   "cell_type": "code",
   "execution_count": null,
   "id": "a6cf0890",
   "metadata": {
    "vscode": {
     "languageId": "plaintext"
    }
   },
   "outputs": [],
   "source": [
    "gcloud sql import sql [INSTANCE_NAME] \\\n",
    "    gs://[BUCKET_NAME]/[IMPORT_FILE].sql.gz \\\n",
    "    --database=[DB_NAME]"
   ]
  },
  {
   "cell_type": "markdown",
   "id": "d9255082",
   "metadata": {},
   "source": [
    "## Backup"
   ]
  },
  {
   "cell_type": "code",
   "execution_count": null,
   "id": "2d636a0c",
   "metadata": {
    "vscode": {
     "languageId": "plaintext"
    }
   },
   "outputs": [],
   "source": [
    "gcloud sql backups create --instance=[INSTANCE_NAME]"
   ]
  },
  {
   "cell_type": "markdown",
   "id": "f0b2294c",
   "metadata": {},
   "source": [
    "## Restore"
   ]
  },
  {
   "cell_type": "code",
   "execution_count": null,
   "id": "abdbb13c",
   "metadata": {
    "vscode": {
     "languageId": "plaintext"
    }
   },
   "outputs": [],
   "source": [
    "gcloud sql backups restore [BACKUP_ID] \\\n",
    "    --instance=[INSTANCE_NAME]"
   ]
  },
  {
   "cell_type": "markdown",
   "id": "28baa305",
   "metadata": {},
   "source": [
    "## Melihat Daftar Backup"
   ]
  },
  {
   "cell_type": "code",
   "execution_count": null,
   "id": "4c7be73e",
   "metadata": {
    "vscode": {
     "languageId": "plaintext"
    }
   },
   "outputs": [],
   "source": [
    "gcloud sql backups list --instance=[INSTANCE_NAME]"
   ]
  },
  {
   "cell_type": "markdown",
   "id": "dc7b487f",
   "metadata": {},
   "source": [
    "## Menghapus Instance"
   ]
  },
  {
   "cell_type": "code",
   "execution_count": null,
   "id": "ae457772",
   "metadata": {
    "vscode": {
     "languageId": "plaintext"
    }
   },
   "outputs": [],
   "source": [
    "gcloud sql instances delete [INSTANCE_NAME]"
   ]
  },
  {
   "cell_type": "markdown",
   "id": "863e0fca",
   "metadata": {},
   "source": [
    "## Connect ke Instance"
   ]
  },
  {
   "cell_type": "code",
   "execution_count": null,
   "id": "e3768404",
   "metadata": {
    "vscode": {
     "languageId": "plaintext"
    }
   },
   "outputs": [],
   "source": [
    "gcloud sql connect [INSTANCE_NAME] \\\n",
    "  --user=[DB_USERNAME]"
   ]
  }
 ],
 "metadata": {
  "language_info": {
   "name": "python"
  }
 },
 "nbformat": 4,
 "nbformat_minor": 5
}
