{
 "cells": [
  {
   "cell_type": "markdown",
   "id": "aad6c06c",
   "metadata": {},
   "source": [
    "# Cloud Spanner"
   ]
  },
  {
   "cell_type": "markdown",
   "id": "792c50fb",
   "metadata": {},
   "source": [
    "## Membuat Instance Spanner"
   ]
  },
  {
   "cell_type": "code",
   "execution_count": null,
   "id": "cf62a9da",
   "metadata": {
    "vscode": {
     "languageId": "plaintext"
    }
   },
   "outputs": [],
   "source": [
    "gcloud spanner instances create [INSTANCE_ID] \\\n",
    "  --config=regional-us-central1 \\\n",
    "  --description=\"My Spanner Instance\" \\\n",
    "  --nodes=3"
   ]
  },
  {
   "cell_type": "markdown",
   "id": "360b0aea",
   "metadata": {},
   "source": [
    "## Membuat Database di dalam Instance"
   ]
  },
  {
   "cell_type": "code",
   "execution_count": null,
   "id": "27793412",
   "metadata": {
    "vscode": {
     "languageId": "plaintext"
    }
   },
   "outputs": [],
   "source": [
    "gcloud spanner databases create [DATABASE_ID] \\\n",
    "  --instance=[INSTANCE_ID]"
   ]
  },
  {
   "cell_type": "markdown",
   "id": "124ae16f",
   "metadata": {},
   "source": [
    "## Mengeksekusi SQL ke Database"
   ]
  },
  {
   "cell_type": "code",
   "execution_count": null,
   "id": "8f8474b8",
   "metadata": {
    "vscode": {
     "languageId": "plaintext"
    }
   },
   "outputs": [],
   "source": [
    "gcloud spanner databases execute-sql [DATABASE_ID] \\\n",
    "  --instance=[INSTANCE_ID] \\\n",
    "  --sql=\"SQL_QUERY\""
   ]
  },
  {
   "cell_type": "code",
   "execution_count": null,
   "id": "0276f341",
   "metadata": {
    "vscode": {
     "languageId": "plaintext"
    }
   },
   "outputs": [],
   "source": [
    "gcloud spanner databases execute-sql mydb \\\n",
    "  --instance=my-instance \\\n",
    "  --sql=\"SELECT * FROM Users\""
   ]
  },
  {
   "cell_type": "markdown",
   "id": "d3e48d95",
   "metadata": {},
   "source": [
    "## DDL"
   ]
  },
  {
   "cell_type": "code",
   "execution_count": null,
   "id": "af1af4ca",
   "metadata": {
    "vscode": {
     "languageId": "plaintext"
    }
   },
   "outputs": [],
   "source": [
    "CREATE TABLE Users (\n",
    "  UserId STRING(36) NOT NULL,\n",
    "  Name STRING(1024),\n",
    "  Email STRING(1024),\n",
    ") PRIMARY KEY(UserId);\n",
    "\n",
    "# Save as ddl.sql"
   ]
  },
  {
   "cell_type": "code",
   "execution_count": null,
   "id": "f5e0207e",
   "metadata": {
    "vscode": {
     "languageId": "plaintext"
    }
   },
   "outputs": [],
   "source": [
    "gcloud spanner databases ddl update mydb \\\n",
    "  --instance=my-instance \\\n",
    "  --ddl-file=ddl.sql\n",
    "\n",
    "# Atau\n",
    "\n",
    "gcloud spanner databases ddl update mydb \\\n",
    "  --instance=my-instance \\\n",
    "  --ddl=\"CREATE TABLE Users (UserId STRING(36) NOT NULL, Name STRING(1024)) PRIMARY KEY(UserId)\""
   ]
  },
  {
   "cell_type": "markdown",
   "id": "67005434",
   "metadata": {},
   "source": [
    "## Menghapus Database"
   ]
  },
  {
   "cell_type": "code",
   "execution_count": null,
   "id": "0861fdaf",
   "metadata": {
    "vscode": {
     "languageId": "plaintext"
    }
   },
   "outputs": [],
   "source": [
    "gcloud spanner databases delete [DATABASE_ID] \\\n",
    "  --instance=[INSTANCE_ID]"
   ]
  },
  {
   "cell_type": "markdown",
   "id": "d6b0a791",
   "metadata": {},
   "source": [
    "## Menghapus Instance"
   ]
  },
  {
   "cell_type": "code",
   "execution_count": null,
   "id": "0ab44c14",
   "metadata": {
    "vscode": {
     "languageId": "plaintext"
    }
   },
   "outputs": [],
   "source": [
    "gcloud spanner instances delete [INSTANCE_ID]"
   ]
  },
  {
   "cell_type": "markdown",
   "id": "246665c2",
   "metadata": {},
   "source": [
    "## Query Plan dan Execution Stats"
   ]
  },
  {
   "cell_type": "code",
   "execution_count": null,
   "id": "efedface",
   "metadata": {
    "vscode": {
     "languageId": "plaintext"
    }
   },
   "outputs": [],
   "source": [
    "gcloud spanner databases execute-sql mydb \\\n",
    "  --instance=my-instance \\\n",
    "  --sql=\"SELECT * FROM Users\" \\\n",
    "  --query-mode=PROFILE"
   ]
  },
  {
   "cell_type": "markdown",
   "id": "ebfbbadc",
   "metadata": {},
   "source": [
    "## Backup"
   ]
  },
  {
   "cell_type": "code",
   "execution_count": null,
   "id": "0546325d",
   "metadata": {
    "vscode": {
     "languageId": "plaintext"
    }
   },
   "outputs": [],
   "source": [
    "gcloud spanner backups create my-backup \\\n",
    "  --instance=my-instance \\\n",
    "  --database=mydb \\\n",
    "  --retention-period=7d \\\n",
    "  --expiration-date=2025-06-01"
   ]
  },
  {
   "cell_type": "markdown",
   "id": "8c20e7cd",
   "metadata": {},
   "source": [
    "## Restore"
   ]
  },
  {
   "cell_type": "code",
   "execution_count": null,
   "id": "b3594259",
   "metadata": {
    "vscode": {
     "languageId": "plaintext"
    }
   },
   "outputs": [],
   "source": [
    "gcloud spanner databases restore mydb-restored \\\n",
    "  --instance=my-instance \\\n",
    "  --backup=my-backup"
   ]
  },
  {
   "cell_type": "markdown",
   "id": "e7ea5ef0",
   "metadata": {},
   "source": [
    "## Melihat Backup"
   ]
  },
  {
   "cell_type": "code",
   "execution_count": null,
   "id": "4a535096",
   "metadata": {
    "vscode": {
     "languageId": "plaintext"
    }
   },
   "outputs": [],
   "source": [
    "gcloud spanner backups list --instance=my-instance"
   ]
  }
 ],
 "metadata": {
  "language_info": {
   "name": "python"
  }
 },
 "nbformat": 4,
 "nbformat_minor": 5
}
