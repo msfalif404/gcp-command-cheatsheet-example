{
 "cells": [
  {
   "cell_type": "markdown",
   "id": "741cda68",
   "metadata": {},
   "source": [
    "# Firestore"
   ]
  },
  {
   "cell_type": "markdown",
   "id": "ca4fc4e0",
   "metadata": {},
   "source": [
    "## Mengaktifkan Firestore"
   ]
  },
  {
   "cell_type": "code",
   "execution_count": null,
   "id": "d1ac3721",
   "metadata": {
    "vscode": {
     "languageId": "plaintext"
    }
   },
   "outputs": [],
   "source": [
    "gcloud firestore databases create \\\n",
    "  --region=REGION \\\n",
    "  --type=DATABASE_TYPE"
   ]
  },
  {
   "cell_type": "markdown",
   "id": "11fde23e",
   "metadata": {},
   "source": [
    "## Melihat status Firestore"
   ]
  },
  {
   "cell_type": "code",
   "execution_count": null,
   "id": "85b62dec",
   "metadata": {
    "vscode": {
     "languageId": "plaintext"
    }
   },
   "outputs": [],
   "source": [
    "gcloud firestore databases describe"
   ]
  },
  {
   "cell_type": "markdown",
   "id": "6e3c4235",
   "metadata": {},
   "source": [
    "## Menghapus Firestore"
   ]
  },
  {
   "cell_type": "code",
   "execution_count": null,
   "id": "06ec5df9",
   "metadata": {
    "vscode": {
     "languageId": "plaintext"
    }
   },
   "outputs": [],
   "source": [
    "gcloud firestore databases delete"
   ]
  },
  {
   "cell_type": "markdown",
   "id": "309e052c",
   "metadata": {},
   "source": [
    "## Mengekspor Data Firestore"
   ]
  },
  {
   "cell_type": "code",
   "execution_count": null,
   "id": "9ec74e30",
   "metadata": {
    "vscode": {
     "languageId": "plaintext"
    }
   },
   "outputs": [],
   "source": [
    "gcloud firestore export gs://[BUCKET_NAME]/[EXPORT_PATH]"
   ]
  },
  {
   "cell_type": "markdown",
   "id": "9da124e1",
   "metadata": {},
   "source": [
    "## Mengimpor Data Firestore"
   ]
  },
  {
   "cell_type": "code",
   "execution_count": null,
   "id": "1a5ac4c5",
   "metadata": {
    "vscode": {
     "languageId": "plaintext"
    }
   },
   "outputs": [],
   "source": [
    "gcloud firestore import gs://[BUCKET_NAME]/[PATH_TO_BACKUP] \\\n",
    "--collection-ids=[COLLECTION1,COLLECTION2,...]\n",
    "--async"
   ]
  },
  {
   "cell_type": "markdown",
   "id": "92d6d441",
   "metadata": {},
   "source": [
    "## Mengatur Pengindeksan"
   ]
  },
  {
   "cell_type": "code",
   "execution_count": null,
   "id": "dfeed6a9",
   "metadata": {
    "vscode": {
     "languageId": "plaintext"
    }
   },
   "outputs": [],
   "source": [
    "gcloud firestore indexes composite create \\\n",
    "  --collection-group=\"COLLECTION_NAME\" \\\n",
    "  --field-config=\"fieldPath=FIELD1,order=ASCENDING\" \\\n",
    "  --field-config=\"fieldPath=FIELD2,order=DESCENDING\""
   ]
  },
  {
   "cell_type": "code",
   "execution_count": null,
   "id": "fed899d6",
   "metadata": {
    "vscode": {
     "languageId": "plaintext"
    }
   },
   "outputs": [],
   "source": [
    "gcloud firestore indexes composite create \\\n",
    "  --collection-group=\"products\" \\\n",
    "  --field-config=\"fieldPath=category,order=ASCENDING\" \\\n",
    "  --field-config=\"fieldPath=price,order=DESCENDING\""
   ]
  },
  {
   "cell_type": "markdown",
   "id": "8c841bfc",
   "metadata": {},
   "source": [
    "## Melihat Indeks"
   ]
  },
  {
   "cell_type": "code",
   "execution_count": null,
   "id": "ead43a8d",
   "metadata": {
    "vscode": {
     "languageId": "plaintext"
    }
   },
   "outputs": [],
   "source": [
    "gcloud firestore indexes composite list"
   ]
  },
  {
   "cell_type": "markdown",
   "id": "6e753e37",
   "metadata": {},
   "source": [
    "## Menghapus Indeks"
   ]
  },
  {
   "cell_type": "markdown",
   "id": "d85952a3",
   "metadata": {},
   "source": [
    "gcloud firestore indexes composite delete INDEX_ID"
   ]
  },
  {
   "cell_type": "markdown",
   "id": "37577b14",
   "metadata": {},
   "source": [
    "## Backup Data"
   ]
  },
  {
   "cell_type": "code",
   "execution_count": null,
   "id": "78772169",
   "metadata": {
    "vscode": {
     "languageId": "plaintext"
    }
   },
   "outputs": [],
   "source": [
    "gcloud firestore export gs://fastbuy-backups/firestore-backup-$(date +%F)"
   ]
  },
  {
   "cell_type": "markdown",
   "id": "d5c04a12",
   "metadata": {},
   "source": [
    "## Restore Data"
   ]
  },
  {
   "cell_type": "code",
   "execution_count": null,
   "id": "24546821",
   "metadata": {
    "vscode": {
     "languageId": "plaintext"
    }
   },
   "outputs": [],
   "source": [
    "gcloud firestore import gs://fastbuy-backups/firestore-backup-2025-05-25"
   ]
  }
 ],
 "metadata": {
  "language_info": {
   "name": "python"
  }
 },
 "nbformat": 4,
 "nbformat_minor": 5
}
