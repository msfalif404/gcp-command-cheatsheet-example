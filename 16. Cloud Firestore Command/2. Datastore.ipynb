{
 "cells": [
  {
   "cell_type": "markdown",
   "id": "8c4925fc",
   "metadata": {},
   "source": [
    "# Datastore"
   ]
  },
  {
   "cell_type": "markdown",
   "id": "88b3250b",
   "metadata": {},
   "source": [
    "## Export"
   ]
  },
  {
   "cell_type": "code",
   "execution_count": null,
   "id": "35cd8833",
   "metadata": {
    "vscode": {
     "languageId": "plaintext"
    }
   },
   "outputs": [],
   "source": [
    "gcloud datastore export gs://[BUCKET_NAME]/[EXPORT_PREFIX]"
   ]
  },
  {
   "cell_type": "code",
   "execution_count": null,
   "id": "42504e8e",
   "metadata": {
    "vscode": {
     "languageId": "plaintext"
    }
   },
   "outputs": [],
   "source": [
    "gcloud datastore export gs://my-datastore-backups/2025-05"
   ]
  },
  {
   "cell_type": "code",
   "execution_count": null,
   "id": "7c0a4207",
   "metadata": {
    "vscode": {
     "languageId": "plaintext"
    }
   },
   "outputs": [],
   "source": [
    "gcloud datastore export gs://my-datastore-backups/2025-05 \\\n",
    "  --kinds=User,Comment \\\n",
    "  --namespaces=production \\\n",
    "  --async"
   ]
  },
  {
   "cell_type": "markdown",
   "id": "736e7e9f",
   "metadata": {},
   "source": [
    "## Import"
   ]
  },
  {
   "cell_type": "code",
   "execution_count": null,
   "id": "405f5989",
   "metadata": {
    "vscode": {
     "languageId": "plaintext"
    }
   },
   "outputs": [],
   "source": [
    "gcloud datastore import gs://[BUCKET_NAME]/[EXPORT_PREFIX]"
   ]
  },
  {
   "cell_type": "code",
   "execution_count": null,
   "id": "17204059",
   "metadata": {
    "vscode": {
     "languageId": "plaintext"
    }
   },
   "outputs": [],
   "source": [
    "gcloud datastore import gs://my-datastore-backups/2025-05"
   ]
  },
  {
   "cell_type": "markdown",
   "id": "4c9f51fb",
   "metadata": {},
   "source": [
    "## Melihat Indeks yang Aktif"
   ]
  },
  {
   "cell_type": "code",
   "execution_count": null,
   "id": "f51f5960",
   "metadata": {
    "vscode": {
     "languageId": "plaintext"
    }
   },
   "outputs": [],
   "source": [
    "gcloud datastore indexes list"
   ]
  },
  {
   "cell_type": "markdown",
   "id": "5fc264bc",
   "metadata": {},
   "source": [
    "## Buat Indeks"
   ]
  },
  {
   "cell_type": "code",
   "execution_count": null,
   "id": "3a8bb952",
   "metadata": {
    "vscode": {
     "languageId": "plaintext"
    }
   },
   "outputs": [],
   "source": [
    "gcloud datastore indexes create index.yaml"
   ]
  },
  {
   "cell_type": "markdown",
   "id": "9db4412f",
   "metadata": {},
   "source": [
    "## Hapus Indeks"
   ]
  },
  {
   "cell_type": "code",
   "execution_count": null,
   "id": "919271f7",
   "metadata": {
    "vscode": {
     "languageId": "plaintext"
    }
   },
   "outputs": [],
   "source": [
    "gcloud datastore indexes cleanup index.yaml"
   ]
  }
 ],
 "metadata": {
  "language_info": {
   "name": "python"
  }
 },
 "nbformat": 4,
 "nbformat_minor": 5
}
